{
 "cells": [
  {
   "cell_type": "code",
   "execution_count": 46,
   "id": "dietary-divide",
   "metadata": {},
   "outputs": [],
   "source": [
    "%matplotlib inline"
   ]
  },
  {
   "cell_type": "code",
   "execution_count": 47,
   "id": "prerequisite-soundtrack",
   "metadata": {},
   "outputs": [],
   "source": [
    "import hvplot.pandas"
   ]
  },
  {
   "cell_type": "code",
   "execution_count": 103,
   "id": "talented-stopping",
   "metadata": {},
   "outputs": [],
   "source": [
    "import pandas as pd\n",
    "from fastcore import *\n",
    "from fastcore.all import * "
   ]
  },
  {
   "cell_type": "code",
   "execution_count": 104,
   "id": "german-reason",
   "metadata": {},
   "outputs": [],
   "source": [
    "base_path = Path('/mnt/c/trial/results')"
   ]
  },
  {
   "cell_type": "code",
   "execution_count": 105,
   "id": "municipal-banking",
   "metadata": {
    "scrolled": true
   },
   "outputs": [
    {
     "data": {
      "text/plain": [
       "(#1) [Path('/mnt/c/trial/results/new-minisat-localrestart')]"
      ]
     },
     "execution_count": 105,
     "metadata": {},
     "output_type": "execute_result"
    }
   ],
   "source": [
    "experiment_paths = base_path.ls()\n",
    "experiment_paths"
   ]
  },
  {
   "cell_type": "code",
   "execution_count": 106,
   "id": "broad-municipality",
   "metadata": {},
   "outputs": [],
   "source": [
    "def read_file(file_name):\n",
    "    with open(file_name, 'r') as file:\n",
    "        lines = file.read().splitlines()\n",
    "        \n",
    "    d = {}\n",
    "    for l in lines:\n",
    "        value = l.split(':')\n",
    "        d[value[0]] = value[1]\n",
    "    \n",
    "    return d"
   ]
  },
  {
   "cell_type": "code",
   "execution_count": 107,
   "id": "foreign-rubber",
   "metadata": {},
   "outputs": [],
   "source": [
    "def read_experiment_results(name):\n",
    "    exp = base_path / name\n",
    "    df = pd.DataFrame([read_file(file_name) for file_name in exp.ls()])\n",
    "    df = df.astype({'nclauses': int, 'num_assignments': int, 'num_backtracks': int, 'num_decisions': int, 'num_learned': int, \n",
    "                    'nvars': int, 'runtime': float})\n",
    "    df['experiment'] = name\n",
    "    return df"
   ]
  },
  {
   "cell_type": "code",
   "execution_count": 108,
   "id": "banner-mobile",
   "metadata": {},
   "outputs": [
    {
     "data": {
      "text/plain": [
       "['new-minisat-localrestart']"
      ]
     },
     "execution_count": 108,
     "metadata": {},
     "output_type": "execute_result"
    }
   ],
   "source": [
    "a = experiments[0]\n",
    "experiment_names = [p.name for p in experiment_paths]\n",
    "experiment_names"
   ]
  },
  {
   "cell_type": "code",
   "execution_count": 109,
   "id": "forbidden-outside",
   "metadata": {},
   "outputs": [],
   "source": [
    "df = pd.concat([read_experiment_results(name) for name in experiment_names], axis=0)"
   ]
  },
  {
   "cell_type": "code",
   "execution_count": 110,
   "id": "creative-contest",
   "metadata": {},
   "outputs": [
    {
     "data": {
      "text/html": [
       "<div>\n",
       "<style scoped>\n",
       "    .dataframe tbody tr th:only-of-type {\n",
       "        vertical-align: middle;\n",
       "    }\n",
       "\n",
       "    .dataframe tbody tr th {\n",
       "        vertical-align: top;\n",
       "    }\n",
       "\n",
       "    .dataframe thead th {\n",
       "        text-align: right;\n",
       "    }\n",
       "</style>\n",
       "<table border=\"1\" class=\"dataframe\">\n",
       "  <thead>\n",
       "    <tr style=\"text-align: right;\">\n",
       "      <th></th>\n",
       "      <th>0</th>\n",
       "      <th>1</th>\n",
       "      <th>2</th>\n",
       "    </tr>\n",
       "  </thead>\n",
       "  <tbody>\n",
       "    <tr>\n",
       "      <th>filename</th>\n",
       "      <td>3col200_5_3.shuffled.cnf</td>\n",
       "      <td>3col200_5_5.shuffled.cnf</td>\n",
       "      <td>3col20_5_10.shuffled.cnf</td>\n",
       "    </tr>\n",
       "    <tr>\n",
       "      <th>nclauses</th>\n",
       "      <td>1706</td>\n",
       "      <td>1706</td>\n",
       "      <td>176</td>\n",
       "    </tr>\n",
       "    <tr>\n",
       "      <th>num_assignments</th>\n",
       "      <td>3031851</td>\n",
       "      <td>3752229</td>\n",
       "      <td>269</td>\n",
       "    </tr>\n",
       "    <tr>\n",
       "      <th>num_backtracks</th>\n",
       "      <td>31668</td>\n",
       "      <td>31011</td>\n",
       "      <td>23</td>\n",
       "    </tr>\n",
       "    <tr>\n",
       "      <th>num_decisions</th>\n",
       "      <td>107795</td>\n",
       "      <td>219436</td>\n",
       "      <td>72</td>\n",
       "    </tr>\n",
       "    <tr>\n",
       "      <th>num_learned</th>\n",
       "      <td>31668</td>\n",
       "      <td>31011</td>\n",
       "      <td>23</td>\n",
       "    </tr>\n",
       "    <tr>\n",
       "      <th>num_restarts</th>\n",
       "      <td>3568</td>\n",
       "      <td>9985</td>\n",
       "      <td>3</td>\n",
       "    </tr>\n",
       "    <tr>\n",
       "      <th>nvars</th>\n",
       "      <td>400</td>\n",
       "      <td>400</td>\n",
       "      <td>40</td>\n",
       "    </tr>\n",
       "    <tr>\n",
       "      <th>runtime</th>\n",
       "      <td>41.002</td>\n",
       "      <td>70.141</td>\n",
       "      <td>0.0</td>\n",
       "    </tr>\n",
       "    <tr>\n",
       "      <th>solver</th>\n",
       "      <td>new_solver</td>\n",
       "      <td>new_solver</td>\n",
       "      <td>new_solver</td>\n",
       "    </tr>\n",
       "    <tr>\n",
       "      <th>status</th>\n",
       "      <td>SAT</td>\n",
       "      <td>SAT</td>\n",
       "      <td>UNSAT</td>\n",
       "    </tr>\n",
       "    <tr>\n",
       "      <th>timeout</th>\n",
       "      <td>1200</td>\n",
       "      <td>1200</td>\n",
       "      <td>1200</td>\n",
       "    </tr>\n",
       "    <tr>\n",
       "      <th>vdh</th>\n",
       "      <td>MiniSAT</td>\n",
       "      <td>MiniSAT</td>\n",
       "      <td>MiniSAT</td>\n",
       "    </tr>\n",
       "    <tr>\n",
       "      <th>error</th>\n",
       "      <td>NaN</td>\n",
       "      <td>NaN</td>\n",
       "      <td>Found conflict at level dl=0</td>\n",
       "    </tr>\n",
       "    <tr>\n",
       "      <th>experiment</th>\n",
       "      <td>new-minisat-localrestart</td>\n",
       "      <td>new-minisat-localrestart</td>\n",
       "      <td>new-minisat-localrestart</td>\n",
       "    </tr>\n",
       "  </tbody>\n",
       "</table>\n",
       "</div>"
      ],
      "text/plain": [
       "                                        0                         1  \\\n",
       "filename         3col200_5_3.shuffled.cnf  3col200_5_5.shuffled.cnf   \n",
       "nclauses                             1706                      1706   \n",
       "num_assignments                   3031851                   3752229   \n",
       "num_backtracks                      31668                     31011   \n",
       "num_decisions                      107795                    219436   \n",
       "num_learned                         31668                     31011   \n",
       "num_restarts                         3568                      9985   \n",
       "nvars                                 400                       400   \n",
       "runtime                            41.002                    70.141   \n",
       "solver                         new_solver                new_solver   \n",
       "status                                SAT                       SAT   \n",
       "timeout                              1200                      1200   \n",
       "vdh                               MiniSAT                   MiniSAT   \n",
       "error                                 NaN                       NaN   \n",
       "experiment       new-minisat-localrestart  new-minisat-localrestart   \n",
       "\n",
       "                                            2  \n",
       "filename             3col20_5_10.shuffled.cnf  \n",
       "nclauses                                  176  \n",
       "num_assignments                           269  \n",
       "num_backtracks                             23  \n",
       "num_decisions                              72  \n",
       "num_learned                                23  \n",
       "num_restarts                                3  \n",
       "nvars                                      40  \n",
       "runtime                                   0.0  \n",
       "solver                             new_solver  \n",
       "status                                  UNSAT  \n",
       "timeout                                  1200  \n",
       "vdh                                   MiniSAT  \n",
       "error            Found conflict at level dl=0  \n",
       "experiment           new-minisat-localrestart  "
      ]
     },
     "execution_count": 110,
     "metadata": {},
     "output_type": "execute_result"
    }
   ],
   "source": [
    "df.head(3).T"
   ]
  },
  {
   "cell_type": "markdown",
   "id": "gentle-netherlands",
   "metadata": {},
   "source": [
    "# Check for errors"
   ]
  },
  {
   "cell_type": "code",
   "execution_count": 111,
   "id": "tough-situation",
   "metadata": {},
   "outputs": [
    {
     "data": {
      "text/plain": [
       "error\n",
       "Found conflict at level dl=0            86\n",
       "Timeout of **1200** seconds exceeded     4\n",
       "Name: error, dtype: int64"
      ]
     },
     "execution_count": 111,
     "metadata": {},
     "output_type": "execute_result"
    }
   ],
   "source": [
    "df.groupby(['error'])['error'].count()"
   ]
  },
  {
   "cell_type": "markdown",
   "id": "commercial-favor",
   "metadata": {},
   "source": [
    "Great! No runtime errors! Only conflicts and timeouts!"
   ]
  },
  {
   "cell_type": "markdown",
   "id": "decimal-miracle",
   "metadata": {},
   "source": [
    "# Statistics per experiment"
   ]
  },
  {
   "cell_type": "code",
   "execution_count": 112,
   "id": "civil-passing",
   "metadata": {},
   "outputs": [
    {
     "data": {
      "text/html": [
       "<div>\n",
       "<style scoped>\n",
       "    .dataframe tbody tr th:only-of-type {\n",
       "        vertical-align: middle;\n",
       "    }\n",
       "\n",
       "    .dataframe tbody tr th {\n",
       "        vertical-align: top;\n",
       "    }\n",
       "\n",
       "    .dataframe thead th {\n",
       "        text-align: right;\n",
       "    }\n",
       "</style>\n",
       "<table border=\"1\" class=\"dataframe\">\n",
       "  <thead>\n",
       "    <tr style=\"text-align: right;\">\n",
       "      <th></th>\n",
       "      <th></th>\n",
       "      <th></th>\n",
       "      <th></th>\n",
       "      <th>experiment</th>\n",
       "      <th>runtime</th>\n",
       "      <th>num_assignments</th>\n",
       "      <th>num_learned</th>\n",
       "      <th>num_backtracks</th>\n",
       "      <th>nclauses</th>\n",
       "    </tr>\n",
       "    <tr>\n",
       "      <th>experiment</th>\n",
       "      <th>solver</th>\n",
       "      <th>vdh</th>\n",
       "      <th>status</th>\n",
       "      <th></th>\n",
       "      <th></th>\n",
       "      <th></th>\n",
       "      <th></th>\n",
       "      <th></th>\n",
       "      <th></th>\n",
       "    </tr>\n",
       "  </thead>\n",
       "  <tbody>\n",
       "    <tr>\n",
       "      <th rowspan=\"3\" valign=\"top\">new-minisat-localrestart</th>\n",
       "      <th rowspan=\"3\" valign=\"top\">new_solver</th>\n",
       "      <th rowspan=\"3\" valign=\"top\">MiniSAT</th>\n",
       "      <th>ERROR</th>\n",
       "      <td>4</td>\n",
       "      <td>1200.007250</td>\n",
       "      <td>2.346612e+07</td>\n",
       "      <td>114522.000000</td>\n",
       "      <td>114522.000000</td>\n",
       "      <td>5145.250000</td>\n",
       "    </tr>\n",
       "    <tr>\n",
       "      <th>SAT</th>\n",
       "      <td>109</td>\n",
       "      <td>30.477624</td>\n",
       "      <td>4.025868e+06</td>\n",
       "      <td>9331.963303</td>\n",
       "      <td>9331.963303</td>\n",
       "      <td>6675.990826</td>\n",
       "    </tr>\n",
       "    <tr>\n",
       "      <th>UNSAT</th>\n",
       "      <td>86</td>\n",
       "      <td>27.866907</td>\n",
       "      <td>1.986129e+06</td>\n",
       "      <td>6269.860465</td>\n",
       "      <td>6269.860465</td>\n",
       "      <td>4277.802326</td>\n",
       "    </tr>\n",
       "  </tbody>\n",
       "</table>\n",
       "</div>"
      ],
      "text/plain": [
       "                                                    experiment      runtime  \\\n",
       "experiment               solver     vdh     status                            \n",
       "new-minisat-localrestart new_solver MiniSAT ERROR            4  1200.007250   \n",
       "                                            SAT            109    30.477624   \n",
       "                                            UNSAT           86    27.866907   \n",
       "\n",
       "                                                    num_assignments  \\\n",
       "experiment               solver     vdh     status                    \n",
       "new-minisat-localrestart new_solver MiniSAT ERROR      2.346612e+07   \n",
       "                                            SAT        4.025868e+06   \n",
       "                                            UNSAT      1.986129e+06   \n",
       "\n",
       "                                                      num_learned  \\\n",
       "experiment               solver     vdh     status                  \n",
       "new-minisat-localrestart new_solver MiniSAT ERROR   114522.000000   \n",
       "                                            SAT       9331.963303   \n",
       "                                            UNSAT     6269.860465   \n",
       "\n",
       "                                                    num_backtracks  \\\n",
       "experiment               solver     vdh     status                   \n",
       "new-minisat-localrestart new_solver MiniSAT ERROR    114522.000000   \n",
       "                                            SAT        9331.963303   \n",
       "                                            UNSAT      6269.860465   \n",
       "\n",
       "                                                       nclauses  \n",
       "experiment               solver     vdh     status               \n",
       "new-minisat-localrestart new_solver MiniSAT ERROR   5145.250000  \n",
       "                                            SAT     6675.990826  \n",
       "                                            UNSAT   4277.802326  "
      ]
     },
     "execution_count": 112,
     "metadata": {},
     "output_type": "execute_result"
    }
   ],
   "source": [
    "df.groupby(['experiment', 'solver', 'vdh', 'status']).agg({'experiment': 'count', 'runtime': 'mean',\n",
    "                'num_assignments': 'mean', 'num_learned': 'mean', 'num_backtracks': 'mean', 'nclauses': 'mean'})"
   ]
  },
  {
   "cell_type": "code",
   "execution_count": 113,
   "id": "electronic-publisher",
   "metadata": {},
   "outputs": [
    {
     "data": {},
     "metadata": {},
     "output_type": "display_data"
    },
    {
     "data": {
      "application/vnd.holoviews_exec.v0+json": "",
      "text/html": [
       "<div id='8830'>\n",
       "\n",
       "\n",
       "\n",
       "\n",
       "\n",
       "  <div class=\"bk-root\" id=\"031d21b4-d985-4de9-a491-56158b1e138a\" data-root-id=\"8830\"></div>\n",
       "</div>\n",
       "<script type=\"application/javascript\">(function(root) {\n",
       "  function embed_document(root) {\n",
       "    var docs_json = {\"6faba4df-81e7-4057-8fcd-237022f8b16a\":{\"roots\":{\"references\":[{\"attributes\":{},\"id\":\"8842\",\"type\":\"LinearScale\"},{\"attributes\":{\"overlay\":{\"id\":\"8859\"}},\"id\":\"8857\",\"type\":\"BoxZoomTool\"},{\"attributes\":{\"fill_alpha\":{\"value\":0.1},\"fill_color\":{\"value\":\"#ff7e0e\"},\"line_alpha\":{\"value\":0.1},\"line_color\":{\"value\":\"#ff7e0e\"},\"size\":{\"units\":\"screen\",\"value\":5.477225575051661},\"x\":{\"field\":\"nclauses\"},\"y\":{\"field\":\"runtime\"}},\"id\":\"8893\",\"type\":\"Scatter\"},{\"attributes\":{\"fill_alpha\":{\"value\":0.2},\"fill_color\":{\"value\":\"#2ba02b\"},\"line_alpha\":{\"value\":0.2},\"line_color\":{\"value\":\"#2ba02b\"},\"size\":{\"units\":\"screen\",\"value\":5.477225575051661},\"x\":{\"field\":\"nclauses\"},\"y\":{\"field\":\"runtime\"}},\"id\":\"8913\",\"type\":\"Scatter\"},{\"attributes\":{\"fill_color\":{\"value\":\"#ff7e0e\"},\"line_color\":{\"value\":\"#ff7e0e\"},\"size\":{\"units\":\"screen\",\"value\":5.477225575051661},\"x\":{\"field\":\"nclauses\"},\"y\":{\"field\":\"runtime\"}},\"id\":\"8892\",\"type\":\"Scatter\"},{\"attributes\":{\"source\":{\"id\":\"8908\"}},\"id\":\"8915\",\"type\":\"CDSView\"},{\"attributes\":{\"fill_alpha\":{\"value\":0.1},\"fill_color\":{\"value\":\"#2ba02b\"},\"line_alpha\":{\"value\":0.1},\"line_color\":{\"value\":\"#2ba02b\"},\"size\":{\"units\":\"screen\",\"value\":5.477225575051661},\"x\":{\"field\":\"nclauses\"},\"y\":{\"field\":\"runtime\"}},\"id\":\"8912\",\"type\":\"Scatter\"},{\"attributes\":{\"text\":\"Runtime by #clauses\",\"text_color\":{\"value\":\"black\"},\"text_font_size\":{\"value\":\"12pt\"}},\"id\":\"8838\",\"type\":\"Title\"},{\"attributes\":{\"end\":87494.32857142857,\"reset_end\":87494.32857142857,\"reset_start\":-3511.3285714285716,\"start\":-3511.3285714285716,\"tags\":[[[\"nclauses\",\"nclauses\",null]]]},\"id\":\"8832\",\"type\":\"Range1d\"},{\"attributes\":{\"fill_color\":{\"value\":\"#1f77b3\"},\"line_color\":{\"value\":\"#1f77b3\"},\"size\":{\"units\":\"screen\",\"value\":5.477225575051661},\"x\":{\"field\":\"nclauses\"},\"y\":{\"field\":\"runtime\"}},\"id\":\"8874\",\"type\":\"Scatter\"},{\"attributes\":{\"data_source\":{\"id\":\"8908\"},\"glyph\":{\"id\":\"8911\"},\"hover_glyph\":null,\"muted_glyph\":{\"id\":\"8913\"},\"nonselection_glyph\":{\"id\":\"8912\"},\"selection_glyph\":null,\"view\":{\"id\":\"8915\"}},\"id\":\"8914\",\"type\":\"GlyphRenderer\"},{\"attributes\":{\"data_source\":{\"id\":\"8871\"},\"glyph\":{\"id\":\"8874\"},\"hover_glyph\":null,\"muted_glyph\":{\"id\":\"8876\"},\"nonselection_glyph\":{\"id\":\"8875\"},\"selection_glyph\":null,\"view\":{\"id\":\"8878\"}},\"id\":\"8877\",\"type\":\"GlyphRenderer\"},{\"attributes\":{},\"id\":\"8890\",\"type\":\"Selection\"},{\"attributes\":{\"below\":[{\"id\":\"8846\"}],\"center\":[{\"id\":\"8849\"},{\"id\":\"8853\"}],\"left\":[{\"id\":\"8850\"}],\"margin\":[5,5,5,5],\"min_border_bottom\":10,\"min_border_left\":10,\"min_border_right\":10,\"min_border_top\":10,\"plot_height\":300,\"plot_width\":700,\"renderers\":[{\"id\":\"8877\"},{\"id\":\"8895\"},{\"id\":\"8914\"}],\"right\":[{\"id\":\"8887\"}],\"sizing_mode\":\"fixed\",\"title\":{\"id\":\"8838\"},\"toolbar\":{\"id\":\"8860\"},\"x_range\":{\"id\":\"8832\"},\"x_scale\":{\"id\":\"8842\"},\"y_range\":{\"id\":\"8833\"},\"y_scale\":{\"id\":\"8844\"}},\"id\":\"8837\",\"subtype\":\"Figure\",\"type\":\"Plot\"},{\"attributes\":{\"axis\":{\"id\":\"8850\"},\"dimension\":1,\"grid_line_color\":null,\"ticker\":null},\"id\":\"8853\",\"type\":\"Grid\"},{\"attributes\":{\"fill_alpha\":{\"value\":0.2},\"fill_color\":{\"value\":\"#ff7e0e\"},\"line_alpha\":{\"value\":0.2},\"line_color\":{\"value\":\"#ff7e0e\"},\"size\":{\"units\":\"screen\",\"value\":5.477225575051661},\"x\":{\"field\":\"nclauses\"},\"y\":{\"field\":\"runtime\"}},\"id\":\"8894\",\"type\":\"Scatter\"},{\"attributes\":{\"source\":{\"id\":\"8889\"}},\"id\":\"8896\",\"type\":\"CDSView\"},{\"attributes\":{\"margin\":[5,5,5,5],\"name\":\"HSpacer23057\",\"sizing_mode\":\"stretch_width\"},\"id\":\"9037\",\"type\":\"Spacer\"},{\"attributes\":{\"data\":{\"nclauses\":[1706,1706,1876,1876,1876,686,686,686,686,686,686,686,686,686,686,760,780,822,830,833,784,797,785,806,832,1549,1581,1552,1535,1554,1582,1528,1532,1586,1595,22855,36994,29119,83902,15358,11695,560,684,820,759,905,1070,990,1166,1356,1274,1476,1700,1596,1833,2086,2408,3040,2907,22470,18870,61745,1002,2469,5856,13531,683,1468,3152,4818,7202,9642,14508,18160,23004,27728,33520,41023,27684,4777,4777,4777,4777,4777,4777,4777,4777,4777,4777,4934,709,709,887,5556,18616,36291,500,500,500,500,500,600,600,600,600,600,700,700,700],\"runtime\":{\"__ndarray__\":\"x0s3iUGAREAbL90kBolRQD81XrpJrDhAeekmMQjMT0D0/dR46aYvQPYoXI/C9dA/K4cW2c73sz+BlUOLbOe7PxfZzvdT48U/WDm0yHa+vz8rhxbZzvezPwAAAAAAAMA/WDm0yHa+vz/sUbgehevBP1YOLbKd78c/c2iR7Xw/AEBzaJHtfD//PwAAAAAAAMA/K4cW2c73sz+4HoXrUbiOPwIrhxbZzrc/WDm0yHa+nz9YObTIdr6fP1g5tMh2vp8/WmQ730+Npz+LbOf7qfHSP1g5tMh2vq8/AAAAAAAA2D8rhxbZzvezP1pkO99Pjac/WDm0yHa+rz9YObTIdr6vP+xRuB6F68E/gZVDi2znyz8rhxbZzvfDP3Noke18vxVA1XjpJjHoPUD2KFyPwvXQP2Dl0CLb+eI/8tJNYhDYKECBlUOLbOe7PyuHFtnO98M/gZVDi2znuz8AAAAAAADQPyuHFtnO97M/K4cW2c73wz/sUbgehevBP5ZDi2zn+8k/9ihcj8L12D+WQ4ts5/vRP1g5tMh2vv8/y6FFtvP95D9g5dAi2/nuP1YOLbKdbxhAy6FFtvP98D8dWmQ7388RQA4tsp3vpyxA8tJNYhB4ZECmm8QgsKiCQM3MzMzMDnFAlkOLbOf7yT8AAAAAAADkP1pkO99Pjac/1XjpJjEI3D8dWmQ7388YQJ7vp8ZLt3BAAAAAAAAAAABYObTIdr6fPyuHFtnO97M/K4cW2c732z97FK5H4XroP6wcWmQ73wJAK4cW2c53J0BWDi2ynW8iQJMYBFYORVxAarx0kxgkTEA730+Nl02JQI2XbhKDjnBAK4cW2c730z9zaJHtfD8VQDm0yHa+nwxAK4cW2c732z9YObTIdr4MQHNoke18P/c/9ihcj8L10D9g5dAi2/nmP/YoXI/C9dg/AAAAAAAAAEAdWmQ7388ZQIcW2c73MzZAPQrXo3A9+j/sUbgehS9hQJMYBFYOqWVAK4cW2c73sz8OLbKd74cwQOXQItv5jlBAuB6F61G4jj+4HoXrUbiOP7gehetRuI4/uB6F61G4jj+4HoXrUbiOPwAAAAAAAAAAuB6F61G4jj8AAAAAAAAAALgehetRuI4/uB6F61G4jj/8qfHSTWKQP7gehetRuI4/AAAAAAAAAAA=\",\"dtype\":\"float64\",\"order\":\"little\",\"shape\":[109]},\"status\":[\"SAT\",\"SAT\",\"SAT\",\"SAT\",\"SAT\",\"SAT\",\"SAT\",\"SAT\",\"SAT\",\"SAT\",\"SAT\",\"SAT\",\"SAT\",\"SAT\",\"SAT\",\"SAT\",\"SAT\",\"SAT\",\"SAT\",\"SAT\",\"SAT\",\"SAT\",\"SAT\",\"SAT\",\"SAT\",\"SAT\",\"SAT\",\"SAT\",\"SAT\",\"SAT\",\"SAT\",\"SAT\",\"SAT\",\"SAT\",\"SAT\",\"SAT\",\"SAT\",\"SAT\",\"SAT\",\"SAT\",\"SAT\",\"SAT\",\"SAT\",\"SAT\",\"SAT\",\"SAT\",\"SAT\",\"SAT\",\"SAT\",\"SAT\",\"SAT\",\"SAT\",\"SAT\",\"SAT\",\"SAT\",\"SAT\",\"SAT\",\"SAT\",\"SAT\",\"SAT\",\"SAT\",\"SAT\",\"SAT\",\"SAT\",\"SAT\",\"SAT\",\"SAT\",\"SAT\",\"SAT\",\"SAT\",\"SAT\",\"SAT\",\"SAT\",\"SAT\",\"SAT\",\"SAT\",\"SAT\",\"SAT\",\"SAT\",\"SAT\",\"SAT\",\"SAT\",\"SAT\",\"SAT\",\"SAT\",\"SAT\",\"SAT\",\"SAT\",\"SAT\",\"SAT\",\"SAT\",\"SAT\",\"SAT\",\"SAT\",\"SAT\",\"SAT\",\"SAT\",\"SAT\",\"SAT\",\"SAT\",\"SAT\",\"SAT\",\"SAT\",\"SAT\",\"SAT\",\"SAT\",\"SAT\",\"SAT\",\"SAT\"]},\"selected\":{\"id\":\"8890\"},\"selection_policy\":{\"id\":\"8905\"}},\"id\":\"8889\",\"type\":\"ColumnDataSource\"},{\"attributes\":{},\"id\":\"8872\",\"type\":\"Selection\"},{\"attributes\":{\"fill_color\":{\"value\":\"#2ba02b\"},\"line_color\":{\"value\":\"#2ba02b\"},\"size\":{\"units\":\"screen\",\"value\":5.477225575051661},\"x\":{\"field\":\"nclauses\"},\"y\":{\"field\":\"runtime\"}},\"id\":\"8911\",\"type\":\"Scatter\"},{\"attributes\":{\"axis_label\":\"nclauses\",\"bounds\":\"auto\",\"formatter\":{\"id\":\"8867\"},\"major_label_orientation\":\"horizontal\",\"ticker\":{\"id\":\"8847\"}},\"id\":\"8846\",\"type\":\"LinearAxis\"},{\"attributes\":{\"fill_alpha\":{\"value\":0.1},\"fill_color\":{\"value\":\"#1f77b3\"},\"line_alpha\":{\"value\":0.1},\"line_color\":{\"value\":\"#1f77b3\"},\"size\":{\"units\":\"screen\",\"value\":5.477225575051661},\"x\":{\"field\":\"nclauses\"},\"y\":{\"field\":\"runtime\"}},\"id\":\"8875\",\"type\":\"Scatter\"},{\"attributes\":{\"label\":{\"value\":\"UNSAT\"},\"renderers\":[{\"id\":\"8914\"}]},\"id\":\"8928\",\"type\":\"LegendItem\"},{\"attributes\":{\"data_source\":{\"id\":\"8889\"},\"glyph\":{\"id\":\"8892\"},\"hover_glyph\":null,\"muted_glyph\":{\"id\":\"8894\"},\"nonselection_glyph\":{\"id\":\"8893\"},\"selection_glyph\":null,\"view\":{\"id\":\"8896\"}},\"id\":\"8895\",\"type\":\"GlyphRenderer\"},{\"attributes\":{\"fill_alpha\":{\"value\":0.2},\"fill_color\":{\"value\":\"#1f77b3\"},\"line_alpha\":{\"value\":0.2},\"line_color\":{\"value\":\"#1f77b3\"},\"size\":{\"units\":\"screen\",\"value\":5.477225575051661},\"x\":{\"field\":\"nclauses\"},\"y\":{\"field\":\"runtime\"}},\"id\":\"8876\",\"type\":\"Scatter\"},{\"attributes\":{},\"id\":\"8847\",\"type\":\"BasicTicker\"},{\"attributes\":{\"callback\":null,\"renderers\":[{\"id\":\"8877\"},{\"id\":\"8895\"},{\"id\":\"8914\"}],\"tags\":[\"hv_created\"],\"tooltips\":[[\"status\",\"@{status}\"],[\"nclauses\",\"@{nclauses}\"],[\"runtime\",\"@{runtime}\"]]},\"id\":\"8834\",\"type\":\"HoverTool\"},{\"attributes\":{},\"id\":\"8867\",\"type\":\"BasicTickFormatter\"},{\"attributes\":{},\"id\":\"8926\",\"type\":\"UnionRenderers\"},{\"attributes\":{\"label\":{\"value\":\"SAT\"},\"renderers\":[{\"id\":\"8895\"}]},\"id\":\"8907\",\"type\":\"LegendItem\"},{\"attributes\":{\"data\":{\"nclauses\":[2715,3248,3617,11001],\"runtime\":{\"__ndarray__\":\"7FG4HgXAkkB56SYxCMCSQAaBlUMLwJJA7FG4HgXAkkA=\",\"dtype\":\"float64\",\"order\":\"little\",\"shape\":[4]},\"status\":[\"ERROR\",\"ERROR\",\"ERROR\",\"ERROR\"]},\"selected\":{\"id\":\"8872\"},\"selection_policy\":{\"id\":\"8885\"}},\"id\":\"8871\",\"type\":\"ColumnDataSource\"},{\"attributes\":{\"data\":{\"nclauses\":[176,176,176,176,176,176,176,176,176,176,346,346,346,346,346,346,346,346,346,346,516,516,516,516,516,516,516,516,516,516,904,474,420,419,608,624,904,803,795,3264,3244,3182,3137,3270,3201,3151,3259,22996,32450,24309,10940,19908,15777,44291,370,780,1606,3264,6586,13236,376,1007,2411,3902,6053,8308,12757,36344,23144,1113,1113,1113,1113,1113,1113,1113,1113,1113,1113,11001,11001,81,171,361,551,741],\"runtime\":{\"__ndarray__\":\"AAAAAAAAAAAAAAAAAAAAALgehetRuI4/uB6F61G4jj+4HoXrUbiOPwAAAAAAAAAAAAAAAAAAAAAAAAAAAAAAAAAAAAAAAAAAAAAAAAAAAAC4HoXrUbiOPwAAAAAAAAAAuB6F61G4jj+4HoXrUbiOP7gehetRuI4/AAAAAAAAAAC4HoXrUbiOPwAAAAAAAAAAuB6F61G4jj8AAAAAAAAAAFg5tMh2vq8/K4cW2c73sz9YObTIdr6vPyuHFtnO97M/K4cW2c73sz+BlUOLbOe7PyuHFtnO97M/WDm0yHa+rz9aZDvfT42nPyuHFtnO97M/uB6F61G4jj8AAAAAAAAAAAIrhxbZzrc/K4cW2c73sz/l0CLb+X7qP+XQItv5fvI/uB6F61G4jj+BlUOLbOe7P4GVQ4ts57s/arx0kxikOkCHFtnO99NBQLgehetRODZAhxbZzvcTPECuR+F6FA5CQFyPwvUonDNAvHSTGASmQkDy0k1iENg5QEjhehSuxyNARrbz/dR47T/ByqFFtvPNP4GVQ4ts58s/I9v5fmq88j9WDi2yne/HP8uhRbbz/dw/WDm0yHa+nz8CK4cW2c63P8HKoUW289U/I9v5fmq88D+sHFpkO18UQIcW2c73kzpAAAAAAAAAAAC4HoXrUbiOP1g5tMh2vq8/lkOLbOf70T+wcmiR7Xz7P6RwPQrXQzZAF9nO91OxfEAAAAAAAAALQHNoke18P/E/K4cW2c73sz8rhxbZzvezP7gehetRuI4/K4cW2c73sz8CK4cW2c63PwAAAAAAAAAAK4cW2c73sz+BlUOLbOe7P4GVQ4ts57s/K4cW2c73sz/TTWIQWEF9QJHtfD81GpJAAAAAAAAAAAC4HoXrUbiOPwAAAAAAAAAAWDm0yHa+nz+LbOf7qfHSPw==\",\"dtype\":\"float64\",\"order\":\"little\",\"shape\":[86]},\"status\":[\"UNSAT\",\"UNSAT\",\"UNSAT\",\"UNSAT\",\"UNSAT\",\"UNSAT\",\"UNSAT\",\"UNSAT\",\"UNSAT\",\"UNSAT\",\"UNSAT\",\"UNSAT\",\"UNSAT\",\"UNSAT\",\"UNSAT\",\"UNSAT\",\"UNSAT\",\"UNSAT\",\"UNSAT\",\"UNSAT\",\"UNSAT\",\"UNSAT\",\"UNSAT\",\"UNSAT\",\"UNSAT\",\"UNSAT\",\"UNSAT\",\"UNSAT\",\"UNSAT\",\"UNSAT\",\"UNSAT\",\"UNSAT\",\"UNSAT\",\"UNSAT\",\"UNSAT\",\"UNSAT\",\"UNSAT\",\"UNSAT\",\"UNSAT\",\"UNSAT\",\"UNSAT\",\"UNSAT\",\"UNSAT\",\"UNSAT\",\"UNSAT\",\"UNSAT\",\"UNSAT\",\"UNSAT\",\"UNSAT\",\"UNSAT\",\"UNSAT\",\"UNSAT\",\"UNSAT\",\"UNSAT\",\"UNSAT\",\"UNSAT\",\"UNSAT\",\"UNSAT\",\"UNSAT\",\"UNSAT\",\"UNSAT\",\"UNSAT\",\"UNSAT\",\"UNSAT\",\"UNSAT\",\"UNSAT\",\"UNSAT\",\"UNSAT\",\"UNSAT\",\"UNSAT\",\"UNSAT\",\"UNSAT\",\"UNSAT\",\"UNSAT\",\"UNSAT\",\"UNSAT\",\"UNSAT\",\"UNSAT\",\"UNSAT\",\"UNSAT\",\"UNSAT\",\"UNSAT\",\"UNSAT\",\"UNSAT\",\"UNSAT\",\"UNSAT\"]},\"selected\":{\"id\":\"8909\"},\"selection_policy\":{\"id\":\"8926\"}},\"id\":\"8908\",\"type\":\"ColumnDataSource\"},{\"attributes\":{\"axis_label\":\"runtime\",\"bounds\":\"auto\",\"formatter\":{\"id\":\"8869\"},\"major_label_orientation\":\"horizontal\",\"ticker\":{\"id\":\"8851\"}},\"id\":\"8850\",\"type\":\"LinearAxis\"},{\"attributes\":{\"active_drag\":\"auto\",\"active_inspect\":\"auto\",\"active_multi\":null,\"active_scroll\":\"auto\",\"active_tap\":\"auto\",\"tools\":[{\"id\":\"8834\"},{\"id\":\"8854\"},{\"id\":\"8855\"},{\"id\":\"8856\"},{\"id\":\"8857\"},{\"id\":\"8858\"}]},\"id\":\"8860\",\"type\":\"Toolbar\"},{\"attributes\":{\"click_policy\":\"mute\",\"items\":[{\"id\":\"8888\"},{\"id\":\"8907\"},{\"id\":\"8928\"}],\"location\":[0,0],\"title\":\"status\"},\"id\":\"8887\",\"type\":\"Legend\"},{\"attributes\":{\"children\":[{\"id\":\"8831\"},{\"id\":\"8837\"},{\"id\":\"9037\"}],\"margin\":[0,0,0,0],\"name\":\"Row23052\",\"tags\":[\"embedded\"]},\"id\":\"8830\",\"type\":\"Row\"},{\"attributes\":{},\"id\":\"8885\",\"type\":\"UnionRenderers\"},{\"attributes\":{\"source\":{\"id\":\"8871\"}},\"id\":\"8878\",\"type\":\"CDSView\"},{\"attributes\":{},\"id\":\"8905\",\"type\":\"UnionRenderers\"},{\"attributes\":{},\"id\":\"8851\",\"type\":\"BasicTicker\"},{\"attributes\":{},\"id\":\"8854\",\"type\":\"SaveTool\"},{\"attributes\":{\"axis\":{\"id\":\"8846\"},\"grid_line_color\":null,\"ticker\":null},\"id\":\"8849\",\"type\":\"Grid\"},{\"attributes\":{},\"id\":\"8855\",\"type\":\"PanTool\"},{\"attributes\":{},\"id\":\"8856\",\"type\":\"WheelZoomTool\"},{\"attributes\":{\"margin\":[5,5,5,5],\"name\":\"HSpacer23056\",\"sizing_mode\":\"stretch_width\"},\"id\":\"8831\",\"type\":\"Spacer\"},{\"attributes\":{},\"id\":\"8858\",\"type\":\"ResetTool\"},{\"attributes\":{\"end\":1320.0121,\"reset_end\":1320.0121,\"reset_start\":-120.00110000000001,\"start\":-120.00110000000001,\"tags\":[[[\"runtime\",\"runtime\",null]]]},\"id\":\"8833\",\"type\":\"Range1d\"},{\"attributes\":{\"bottom_units\":\"screen\",\"fill_alpha\":0.5,\"fill_color\":\"lightgrey\",\"left_units\":\"screen\",\"level\":\"overlay\",\"line_alpha\":1.0,\"line_color\":\"black\",\"line_dash\":[4,4],\"line_width\":2,\"right_units\":\"screen\",\"top_units\":\"screen\"},\"id\":\"8859\",\"type\":\"BoxAnnotation\"},{\"attributes\":{},\"id\":\"8844\",\"type\":\"LinearScale\"},{\"attributes\":{},\"id\":\"8869\",\"type\":\"BasicTickFormatter\"},{\"attributes\":{},\"id\":\"8909\",\"type\":\"Selection\"},{\"attributes\":{\"label\":{\"value\":\"ERROR\"},\"renderers\":[{\"id\":\"8877\"}]},\"id\":\"8888\",\"type\":\"LegendItem\"}],\"root_ids\":[\"8830\"]},\"title\":\"Bokeh Application\",\"version\":\"2.2.3\"}};\n",
       "    var render_items = [{\"docid\":\"6faba4df-81e7-4057-8fcd-237022f8b16a\",\"root_ids\":[\"8830\"],\"roots\":{\"8830\":\"031d21b4-d985-4de9-a491-56158b1e138a\"}}];\n",
       "    root.Bokeh.embed.embed_items_notebook(docs_json, render_items);\n",
       "  }\n",
       "  if (root.Bokeh !== undefined && root.Bokeh.Panel !== undefined) {\n",
       "    embed_document(root);\n",
       "  } else {\n",
       "    var attempts = 0;\n",
       "    var timer = setInterval(function(root) {\n",
       "      if (root.Bokeh !== undefined && root.Bokeh.Panel !== undefined) {\n",
       "        clearInterval(timer);\n",
       "        embed_document(root);\n",
       "      } else if (document.readyState == \"complete\") {\n",
       "        attempts++;\n",
       "        if (attempts > 100) {\n",
       "          clearInterval(timer);\n",
       "          console.log(\"Bokeh: ERROR: Unable to run BokehJS code because BokehJS library is missing\");\n",
       "        }\n",
       "      }\n",
       "    }, 10, root)\n",
       "  }\n",
       "})(window);</script>"
      ],
      "text/plain": [
       ":NdOverlay   [status]\n",
       "   :Scatter   [nclauses]   (runtime)"
      ]
     },
     "execution_count": 113,
     "metadata": {
      "application/vnd.holoviews_exec.v0+json": {
       "id": "8830"
      }
     },
     "output_type": "execute_result"
    }
   ],
   "source": [
    "df.hvplot.scatter(x='nclauses', y='runtime', by=['status']).options(title='Runtime by #clauses')"
   ]
  },
  {
   "cell_type": "code",
   "execution_count": 114,
   "id": "played-smell",
   "metadata": {},
   "outputs": [
    {
     "data": {},
     "metadata": {},
     "output_type": "display_data"
    },
    {
     "data": {
      "application/vnd.holoviews_exec.v0+json": "",
      "text/html": [
       "<div id='9099'>\n",
       "\n",
       "\n",
       "\n",
       "\n",
       "\n",
       "  <div class=\"bk-root\" id=\"648d2155-f9c8-40e4-8eb0-760820211a57\" data-root-id=\"9099\"></div>\n",
       "</div>\n",
       "<script type=\"application/javascript\">(function(root) {\n",
       "  function embed_document(root) {\n",
       "    var docs_json = {\"6cc971b0-a7a5-49ce-a883-83330b70fca1\":{\"roots\":{\"references\":[{\"attributes\":{},\"id\":\"9141\",\"type\":\"Selection\"},{\"attributes\":{\"label\":{\"value\":\"SAT\"},\"renderers\":[{\"id\":\"9164\"}]},\"id\":\"9176\",\"type\":\"LegendItem\"},{\"attributes\":{\"data_source\":{\"id\":\"9158\"},\"glyph\":{\"id\":\"9161\"},\"hover_glyph\":null,\"muted_glyph\":{\"id\":\"9163\"},\"nonselection_glyph\":{\"id\":\"9162\"},\"selection_glyph\":null,\"view\":{\"id\":\"9165\"}},\"id\":\"9164\",\"type\":\"GlyphRenderer\"},{\"attributes\":{\"fill_alpha\":{\"value\":0.1},\"fill_color\":{\"value\":\"#2ba02b\"},\"line_alpha\":{\"value\":0.1},\"line_color\":{\"value\":\"#2ba02b\"},\"size\":{\"units\":\"screen\",\"value\":5.477225575051661},\"x\":{\"field\":\"nvars\"},\"y\":{\"field\":\"runtime\"}},\"id\":\"9181\",\"type\":\"Scatter\"},{\"attributes\":{\"data\":{\"nvars\":[40,40,40,40,40,40,40,40,40,40,80,80,80,80,80,80,80,80,80,80,120,120,120,120,120,120,120,120,120,120,378,198,30,30,40,40,378,20,20,30,30,30,30,30,30,30,30,20,2604,1295,1322,2070,1560,3280,130,272,558,1132,2282,4584,213,478,1017,1571,2359,3193,4777,3603,2220,193,193,193,193,193,193,193,193,193,193,1729,1729,48,98,198,298,398],\"runtime\":{\"__ndarray__\":\"AAAAAAAAAAAAAAAAAAAAALgehetRuI4/uB6F61G4jj+4HoXrUbiOPwAAAAAAAAAAAAAAAAAAAAAAAAAAAAAAAAAAAAAAAAAAAAAAAAAAAAC4HoXrUbiOPwAAAAAAAAAAuB6F61G4jj+4HoXrUbiOP7gehetRuI4/AAAAAAAAAAC4HoXrUbiOPwAAAAAAAAAAuB6F61G4jj8AAAAAAAAAAFg5tMh2vq8/K4cW2c73sz9YObTIdr6vPyuHFtnO97M/K4cW2c73sz+BlUOLbOe7PyuHFtnO97M/WDm0yHa+rz9aZDvfT42nPyuHFtnO97M/uB6F61G4jj8AAAAAAAAAAAIrhxbZzrc/K4cW2c73sz/l0CLb+X7qP+XQItv5fvI/uB6F61G4jj+BlUOLbOe7P4GVQ4ts57s/arx0kxikOkCHFtnO99NBQLgehetRODZAhxbZzvcTPECuR+F6FA5CQFyPwvUonDNAvHSTGASmQkDy0k1iENg5QEjhehSuxyNARrbz/dR47T/ByqFFtvPNP4GVQ4ts58s/I9v5fmq88j9WDi2yne/HP8uhRbbz/dw/WDm0yHa+nz8CK4cW2c63P8HKoUW289U/I9v5fmq88D+sHFpkO18UQIcW2c73kzpAAAAAAAAAAAC4HoXrUbiOP1g5tMh2vq8/lkOLbOf70T+wcmiR7Xz7P6RwPQrXQzZAF9nO91OxfEAAAAAAAAALQHNoke18P/E/K4cW2c73sz8rhxbZzvezP7gehetRuI4/K4cW2c73sz8CK4cW2c63PwAAAAAAAAAAK4cW2c73sz+BlUOLbOe7P4GVQ4ts57s/K4cW2c73sz/TTWIQWEF9QJHtfD81GpJAAAAAAAAAAAC4HoXrUbiOPwAAAAAAAAAAWDm0yHa+nz+LbOf7qfHSPw==\",\"dtype\":\"float64\",\"order\":\"little\",\"shape\":[86]},\"status\":[\"UNSAT\",\"UNSAT\",\"UNSAT\",\"UNSAT\",\"UNSAT\",\"UNSAT\",\"UNSAT\",\"UNSAT\",\"UNSAT\",\"UNSAT\",\"UNSAT\",\"UNSAT\",\"UNSAT\",\"UNSAT\",\"UNSAT\",\"UNSAT\",\"UNSAT\",\"UNSAT\",\"UNSAT\",\"UNSAT\",\"UNSAT\",\"UNSAT\",\"UNSAT\",\"UNSAT\",\"UNSAT\",\"UNSAT\",\"UNSAT\",\"UNSAT\",\"UNSAT\",\"UNSAT\",\"UNSAT\",\"UNSAT\",\"UNSAT\",\"UNSAT\",\"UNSAT\",\"UNSAT\",\"UNSAT\",\"UNSAT\",\"UNSAT\",\"UNSAT\",\"UNSAT\",\"UNSAT\",\"UNSAT\",\"UNSAT\",\"UNSAT\",\"UNSAT\",\"UNSAT\",\"UNSAT\",\"UNSAT\",\"UNSAT\",\"UNSAT\",\"UNSAT\",\"UNSAT\",\"UNSAT\",\"UNSAT\",\"UNSAT\",\"UNSAT\",\"UNSAT\",\"UNSAT\",\"UNSAT\",\"UNSAT\",\"UNSAT\",\"UNSAT\",\"UNSAT\",\"UNSAT\",\"UNSAT\",\"UNSAT\",\"UNSAT\",\"UNSAT\",\"UNSAT\",\"UNSAT\",\"UNSAT\",\"UNSAT\",\"UNSAT\",\"UNSAT\",\"UNSAT\",\"UNSAT\",\"UNSAT\",\"UNSAT\",\"UNSAT\",\"UNSAT\",\"UNSAT\",\"UNSAT\",\"UNSAT\",\"UNSAT\",\"UNSAT\"]},\"selected\":{\"id\":\"9178\"},\"selection_policy\":{\"id\":\"9195\"}},\"id\":\"9177\",\"type\":\"ColumnDataSource\"},{\"attributes\":{\"source\":{\"id\":\"9158\"}},\"id\":\"9165\",\"type\":\"CDSView\"},{\"attributes\":{\"fill_color\":{\"value\":\"#2ba02b\"},\"line_color\":{\"value\":\"#2ba02b\"},\"size\":{\"units\":\"screen\",\"value\":5.477225575051661},\"x\":{\"field\":\"nvars\"},\"y\":{\"field\":\"runtime\"}},\"id\":\"9180\",\"type\":\"Scatter\"},{\"attributes\":{},\"id\":\"9154\",\"type\":\"UnionRenderers\"},{\"attributes\":{\"end\":12581.214285714286,\"reset_end\":12581.214285714286,\"reset_start\":-496.21428571428567,\"start\":-496.21428571428567,\"tags\":[[[\"nvars\",\"nvars\",null]]]},\"id\":\"9101\",\"type\":\"Range1d\"},{\"attributes\":{},\"id\":\"9116\",\"type\":\"BasicTicker\"},{\"attributes\":{},\"id\":\"9178\",\"type\":\"Selection\"},{\"attributes\":{\"fill_alpha\":{\"value\":0.2},\"fill_color\":{\"value\":\"#ff7e0e\"},\"line_alpha\":{\"value\":0.2},\"line_color\":{\"value\":\"#ff7e0e\"},\"size\":{\"units\":\"screen\",\"value\":5.477225575051661},\"x\":{\"field\":\"nvars\"},\"y\":{\"field\":\"runtime\"}},\"id\":\"9163\",\"type\":\"Scatter\"},{\"attributes\":{\"source\":{\"id\":\"9177\"}},\"id\":\"9184\",\"type\":\"CDSView\"},{\"attributes\":{},\"id\":\"9138\",\"type\":\"BasicTickFormatter\"},{\"attributes\":{\"bottom_units\":\"screen\",\"fill_alpha\":0.5,\"fill_color\":\"lightgrey\",\"left_units\":\"screen\",\"level\":\"overlay\",\"line_alpha\":1.0,\"line_color\":\"black\",\"line_dash\":[4,4],\"line_width\":2,\"right_units\":\"screen\",\"top_units\":\"screen\"},\"id\":\"9128\",\"type\":\"BoxAnnotation\"},{\"attributes\":{\"data_source\":{\"id\":\"9140\"},\"glyph\":{\"id\":\"9143\"},\"hover_glyph\":null,\"muted_glyph\":{\"id\":\"9145\"},\"nonselection_glyph\":{\"id\":\"9144\"},\"selection_glyph\":null,\"view\":{\"id\":\"9147\"}},\"id\":\"9146\",\"type\":\"GlyphRenderer\"},{\"attributes\":{},\"id\":\"9111\",\"type\":\"LinearScale\"},{\"attributes\":{\"text\":\"Runtime by #clauses\",\"text_color\":{\"value\":\"black\"},\"text_font_size\":{\"value\":\"12pt\"}},\"id\":\"9107\",\"type\":\"Title\"},{\"attributes\":{\"fill_color\":{\"value\":\"#1f77b3\"},\"line_color\":{\"value\":\"#1f77b3\"},\"size\":{\"units\":\"screen\",\"value\":5.477225575051661},\"x\":{\"field\":\"nvars\"},\"y\":{\"field\":\"runtime\"}},\"id\":\"9143\",\"type\":\"Scatter\"},{\"attributes\":{\"fill_alpha\":{\"value\":0.1},\"fill_color\":{\"value\":\"#ff7e0e\"},\"line_alpha\":{\"value\":0.1},\"line_color\":{\"value\":\"#ff7e0e\"},\"size\":{\"units\":\"screen\",\"value\":5.477225575051661},\"x\":{\"field\":\"nvars\"},\"y\":{\"field\":\"runtime\"}},\"id\":\"9162\",\"type\":\"Scatter\"},{\"attributes\":{\"margin\":[5,5,5,5],\"name\":\"HSpacer23734\",\"sizing_mode\":\"stretch_width\"},\"id\":\"9100\",\"type\":\"Spacer\"},{\"attributes\":{},\"id\":\"9159\",\"type\":\"Selection\"},{\"attributes\":{\"callback\":null,\"renderers\":[{\"id\":\"9146\"},{\"id\":\"9164\"},{\"id\":\"9183\"}],\"tags\":[\"hv_created\"],\"tooltips\":[[\"status\",\"@{status}\"],[\"nvars\",\"@{nvars}\"],[\"runtime\",\"@{runtime}\"]]},\"id\":\"9103\",\"type\":\"HoverTool\"},{\"attributes\":{\"data_source\":{\"id\":\"9177\"},\"glyph\":{\"id\":\"9180\"},\"hover_glyph\":null,\"muted_glyph\":{\"id\":\"9182\"},\"nonselection_glyph\":{\"id\":\"9181\"},\"selection_glyph\":null,\"view\":{\"id\":\"9184\"}},\"id\":\"9183\",\"type\":\"GlyphRenderer\"},{\"attributes\":{},\"id\":\"9124\",\"type\":\"PanTool\"},{\"attributes\":{},\"id\":\"9113\",\"type\":\"LinearScale\"},{\"attributes\":{},\"id\":\"9120\",\"type\":\"BasicTicker\"},{\"attributes\":{\"end\":1320.0121,\"reset_end\":1320.0121,\"reset_start\":-120.00110000000001,\"start\":-120.00110000000001,\"tags\":[[[\"runtime\",\"runtime\",null]]]},\"id\":\"9102\",\"type\":\"Range1d\"},{\"attributes\":{\"margin\":[5,5,5,5],\"name\":\"HSpacer23735\",\"sizing_mode\":\"stretch_width\"},\"id\":\"9306\",\"type\":\"Spacer\"},{\"attributes\":{\"label\":{\"value\":\"UNSAT\"},\"renderers\":[{\"id\":\"9183\"}]},\"id\":\"9197\",\"type\":\"LegendItem\"},{\"attributes\":{\"fill_alpha\":{\"value\":0.2},\"fill_color\":{\"value\":\"#1f77b3\"},\"line_alpha\":{\"value\":0.2},\"line_color\":{\"value\":\"#1f77b3\"},\"size\":{\"units\":\"screen\",\"value\":5.477225575051661},\"x\":{\"field\":\"nvars\"},\"y\":{\"field\":\"runtime\"}},\"id\":\"9145\",\"type\":\"Scatter\"},{\"attributes\":{\"fill_color\":{\"value\":\"#ff7e0e\"},\"line_color\":{\"value\":\"#ff7e0e\"},\"size\":{\"units\":\"screen\",\"value\":5.477225575051661},\"x\":{\"field\":\"nvars\"},\"y\":{\"field\":\"runtime\"}},\"id\":\"9161\",\"type\":\"Scatter\"},{\"attributes\":{\"source\":{\"id\":\"9140\"}},\"id\":\"9147\",\"type\":\"CDSView\"},{\"attributes\":{\"below\":[{\"id\":\"9115\"}],\"center\":[{\"id\":\"9118\"},{\"id\":\"9122\"}],\"left\":[{\"id\":\"9119\"}],\"margin\":[5,5,5,5],\"min_border_bottom\":10,\"min_border_left\":10,\"min_border_right\":10,\"min_border_top\":10,\"plot_height\":300,\"plot_width\":700,\"renderers\":[{\"id\":\"9146\"},{\"id\":\"9164\"},{\"id\":\"9183\"}],\"right\":[{\"id\":\"9156\"}],\"sizing_mode\":\"fixed\",\"title\":{\"id\":\"9107\"},\"toolbar\":{\"id\":\"9129\"},\"x_range\":{\"id\":\"9101\"},\"x_scale\":{\"id\":\"9111\"},\"y_range\":{\"id\":\"9102\"},\"y_scale\":{\"id\":\"9113\"}},\"id\":\"9106\",\"subtype\":\"Figure\",\"type\":\"Plot\"},{\"attributes\":{},\"id\":\"9195\",\"type\":\"UnionRenderers\"},{\"attributes\":{\"fill_alpha\":{\"value\":0.2},\"fill_color\":{\"value\":\"#2ba02b\"},\"line_alpha\":{\"value\":0.2},\"line_color\":{\"value\":\"#2ba02b\"},\"size\":{\"units\":\"screen\",\"value\":5.477225575051661},\"x\":{\"field\":\"nvars\"},\"y\":{\"field\":\"runtime\"}},\"id\":\"9182\",\"type\":\"Scatter\"},{\"attributes\":{\"data\":{\"nvars\":[405,456,485,1729],\"runtime\":{\"__ndarray__\":\"7FG4HgXAkkB56SYxCMCSQAaBlUMLwJJA7FG4HgXAkkA=\",\"dtype\":\"float64\",\"order\":\"little\",\"shape\":[4]},\"status\":[\"ERROR\",\"ERROR\",\"ERROR\",\"ERROR\"]},\"selected\":{\"id\":\"9141\"},\"selection_policy\":{\"id\":\"9154\"}},\"id\":\"9140\",\"type\":\"ColumnDataSource\"},{\"attributes\":{\"axis\":{\"id\":\"9115\"},\"grid_line_color\":null,\"ticker\":null},\"id\":\"9118\",\"type\":\"Grid\"},{\"attributes\":{\"axis_label\":\"nvars\",\"bounds\":\"auto\",\"formatter\":{\"id\":\"9136\"},\"major_label_orientation\":\"horizontal\",\"ticker\":{\"id\":\"9116\"}},\"id\":\"9115\",\"type\":\"LinearAxis\"},{\"attributes\":{\"axis_label\":\"runtime\",\"bounds\":\"auto\",\"formatter\":{\"id\":\"9138\"},\"major_label_orientation\":\"horizontal\",\"ticker\":{\"id\":\"9120\"}},\"id\":\"9119\",\"type\":\"LinearAxis\"},{\"attributes\":{},\"id\":\"9125\",\"type\":\"WheelZoomTool\"},{\"attributes\":{\"axis\":{\"id\":\"9119\"},\"dimension\":1,\"grid_line_color\":null,\"ticker\":null},\"id\":\"9122\",\"type\":\"Grid\"},{\"attributes\":{},\"id\":\"9174\",\"type\":\"UnionRenderers\"},{\"attributes\":{},\"id\":\"9123\",\"type\":\"SaveTool\"},{\"attributes\":{\"overlay\":{\"id\":\"9128\"}},\"id\":\"9126\",\"type\":\"BoxZoomTool\"},{\"attributes\":{},\"id\":\"9127\",\"type\":\"ResetTool\"},{\"attributes\":{\"active_drag\":\"auto\",\"active_inspect\":\"auto\",\"active_multi\":null,\"active_scroll\":\"auto\",\"active_tap\":\"auto\",\"tools\":[{\"id\":\"9103\"},{\"id\":\"9123\"},{\"id\":\"9124\"},{\"id\":\"9125\"},{\"id\":\"9126\"},{\"id\":\"9127\"}]},\"id\":\"9129\",\"type\":\"Toolbar\"},{\"attributes\":{\"fill_alpha\":{\"value\":0.1},\"fill_color\":{\"value\":\"#1f77b3\"},\"line_alpha\":{\"value\":0.1},\"line_color\":{\"value\":\"#1f77b3\"},\"size\":{\"units\":\"screen\",\"value\":5.477225575051661},\"x\":{\"field\":\"nvars\"},\"y\":{\"field\":\"runtime\"}},\"id\":\"9144\",\"type\":\"Scatter\"},{\"attributes\":{\"click_policy\":\"mute\",\"items\":[{\"id\":\"9157\"},{\"id\":\"9176\"},{\"id\":\"9197\"}],\"location\":[0,0],\"title\":\"status\"},\"id\":\"9156\",\"type\":\"Legend\"},{\"attributes\":{},\"id\":\"9136\",\"type\":\"BasicTickFormatter\"},{\"attributes\":{\"data\":{\"nvars\":[400,400,440,440,440,160,160,160,160,160,160,160,160,160,160,50,50,20,20,20,20,20,20,20,20,20,20,20,20,20,20,20,20,20,20,20,2604,1554,4080,1983,1500,144,162,180,176,195,215,210,231,252,248,270,293,288,312,336,378,432,428,2070,1872,4592,316,762,1786,4089,319,637,1271,1885,2752,3649,5374,6661,8372,10033,12065,3603,2664,769,769,769,769,769,769,769,769,769,769,718,100,100,125,341,782,1159,250,250,250,250,250,300,300,300,300,300,350,350,350],\"runtime\":{\"__ndarray__\":\"x0s3iUGAREAbL90kBolRQD81XrpJrDhAeekmMQjMT0D0/dR46aYvQPYoXI/C9dA/K4cW2c73sz+BlUOLbOe7PxfZzvdT48U/WDm0yHa+vz8rhxbZzvezPwAAAAAAAMA/WDm0yHa+vz/sUbgehevBP1YOLbKd78c/c2iR7Xw/AEBzaJHtfD//PwAAAAAAAMA/K4cW2c73sz+4HoXrUbiOPwIrhxbZzrc/WDm0yHa+nz9YObTIdr6fP1g5tMh2vp8/WmQ730+Npz+LbOf7qfHSP1g5tMh2vq8/AAAAAAAA2D8rhxbZzvezP1pkO99Pjac/WDm0yHa+rz9YObTIdr6vP+xRuB6F68E/gZVDi2znyz8rhxbZzvfDP3Noke18vxVA1XjpJjHoPUD2KFyPwvXQP2Dl0CLb+eI/8tJNYhDYKECBlUOLbOe7PyuHFtnO98M/gZVDi2znuz8AAAAAAADQPyuHFtnO97M/K4cW2c73wz/sUbgehevBP5ZDi2zn+8k/9ihcj8L12D+WQ4ts5/vRP1g5tMh2vv8/y6FFtvP95D9g5dAi2/nuP1YOLbKdbxhAy6FFtvP98D8dWmQ7388RQA4tsp3vpyxA8tJNYhB4ZECmm8QgsKiCQM3MzMzMDnFAlkOLbOf7yT8AAAAAAADkP1pkO99Pjac/1XjpJjEI3D8dWmQ7388YQJ7vp8ZLt3BAAAAAAAAAAABYObTIdr6fPyuHFtnO97M/K4cW2c732z97FK5H4XroP6wcWmQ73wJAK4cW2c53J0BWDi2ynW8iQJMYBFYORVxAarx0kxgkTEA730+Nl02JQI2XbhKDjnBAK4cW2c730z9zaJHtfD8VQDm0yHa+nwxAK4cW2c732z9YObTIdr4MQHNoke18P/c/9ihcj8L10D9g5dAi2/nmP/YoXI/C9dg/AAAAAAAAAEAdWmQ7388ZQIcW2c73MzZAPQrXo3A9+j/sUbgehS9hQJMYBFYOqWVAK4cW2c73sz8OLbKd74cwQOXQItv5jlBAuB6F61G4jj+4HoXrUbiOP7gehetRuI4/uB6F61G4jj+4HoXrUbiOPwAAAAAAAAAAuB6F61G4jj8AAAAAAAAAALgehetRuI4/uB6F61G4jj/8qfHSTWKQP7gehetRuI4/AAAAAAAAAAA=\",\"dtype\":\"float64\",\"order\":\"little\",\"shape\":[109]},\"status\":[\"SAT\",\"SAT\",\"SAT\",\"SAT\",\"SAT\",\"SAT\",\"SAT\",\"SAT\",\"SAT\",\"SAT\",\"SAT\",\"SAT\",\"SAT\",\"SAT\",\"SAT\",\"SAT\",\"SAT\",\"SAT\",\"SAT\",\"SAT\",\"SAT\",\"SAT\",\"SAT\",\"SAT\",\"SAT\",\"SAT\",\"SAT\",\"SAT\",\"SAT\",\"SAT\",\"SAT\",\"SAT\",\"SAT\",\"SAT\",\"SAT\",\"SAT\",\"SAT\",\"SAT\",\"SAT\",\"SAT\",\"SAT\",\"SAT\",\"SAT\",\"SAT\",\"SAT\",\"SAT\",\"SAT\",\"SAT\",\"SAT\",\"SAT\",\"SAT\",\"SAT\",\"SAT\",\"SAT\",\"SAT\",\"SAT\",\"SAT\",\"SAT\",\"SAT\",\"SAT\",\"SAT\",\"SAT\",\"SAT\",\"SAT\",\"SAT\",\"SAT\",\"SAT\",\"SAT\",\"SAT\",\"SAT\",\"SAT\",\"SAT\",\"SAT\",\"SAT\",\"SAT\",\"SAT\",\"SAT\",\"SAT\",\"SAT\",\"SAT\",\"SAT\",\"SAT\",\"SAT\",\"SAT\",\"SAT\",\"SAT\",\"SAT\",\"SAT\",\"SAT\",\"SAT\",\"SAT\",\"SAT\",\"SAT\",\"SAT\",\"SAT\",\"SAT\",\"SAT\",\"SAT\",\"SAT\",\"SAT\",\"SAT\",\"SAT\",\"SAT\",\"SAT\",\"SAT\",\"SAT\",\"SAT\",\"SAT\",\"SAT\"]},\"selected\":{\"id\":\"9159\"},\"selection_policy\":{\"id\":\"9174\"}},\"id\":\"9158\",\"type\":\"ColumnDataSource\"},{\"attributes\":{\"children\":[{\"id\":\"9100\"},{\"id\":\"9106\"},{\"id\":\"9306\"}],\"margin\":[0,0,0,0],\"name\":\"Row23730\",\"tags\":[\"embedded\"]},\"id\":\"9099\",\"type\":\"Row\"},{\"attributes\":{\"label\":{\"value\":\"ERROR\"},\"renderers\":[{\"id\":\"9146\"}]},\"id\":\"9157\",\"type\":\"LegendItem\"}],\"root_ids\":[\"9099\"]},\"title\":\"Bokeh Application\",\"version\":\"2.2.3\"}};\n",
       "    var render_items = [{\"docid\":\"6cc971b0-a7a5-49ce-a883-83330b70fca1\",\"root_ids\":[\"9099\"],\"roots\":{\"9099\":\"648d2155-f9c8-40e4-8eb0-760820211a57\"}}];\n",
       "    root.Bokeh.embed.embed_items_notebook(docs_json, render_items);\n",
       "  }\n",
       "  if (root.Bokeh !== undefined && root.Bokeh.Panel !== undefined) {\n",
       "    embed_document(root);\n",
       "  } else {\n",
       "    var attempts = 0;\n",
       "    var timer = setInterval(function(root) {\n",
       "      if (root.Bokeh !== undefined && root.Bokeh.Panel !== undefined) {\n",
       "        clearInterval(timer);\n",
       "        embed_document(root);\n",
       "      } else if (document.readyState == \"complete\") {\n",
       "        attempts++;\n",
       "        if (attempts > 100) {\n",
       "          clearInterval(timer);\n",
       "          console.log(\"Bokeh: ERROR: Unable to run BokehJS code because BokehJS library is missing\");\n",
       "        }\n",
       "      }\n",
       "    }, 10, root)\n",
       "  }\n",
       "})(window);</script>"
      ],
      "text/plain": [
       ":NdOverlay   [status]\n",
       "   :Scatter   [nvars]   (runtime)"
      ]
     },
     "execution_count": 114,
     "metadata": {
      "application/vnd.holoviews_exec.v0+json": {
       "id": "9099"
      }
     },
     "output_type": "execute_result"
    }
   ],
   "source": [
    "df.hvplot.scatter(x='nvars', y='runtime', by=['status']).options(title='Runtime by #clauses')"
   ]
  }
 ],
 "metadata": {
  "kernelspec": {
   "display_name": "Python 3",
   "language": "python",
   "name": "python3"
  },
  "language_info": {
   "codemirror_mode": {
    "name": "ipython",
    "version": 3
   },
   "file_extension": ".py",
   "mimetype": "text/x-python",
   "name": "python",
   "nbconvert_exporter": "python",
   "pygments_lexer": "ipython3",
   "version": "3.8.5"
  }
 },
 "nbformat": 4,
 "nbformat_minor": 5
}
