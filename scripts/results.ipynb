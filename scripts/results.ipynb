{
 "cells": [
  {
   "cell_type": "code",
   "execution_count": 47,
   "id": "indian-indiana",
   "metadata": {},
   "outputs": [],
   "source": [
    "%matplotlib inline"
   ]
  },
  {
   "cell_type": "code",
   "execution_count": 3,
   "id": "infinite-luther",
   "metadata": {},
   "outputs": [],
   "source": [
    "import pandas as pd\n",
    "from fastcore import *\n",
    "from fastcore.all import * "
   ]
  },
  {
   "cell_type": "code",
   "execution_count": 12,
   "id": "scientific-pathology",
   "metadata": {},
   "outputs": [],
   "source": [
    "base_path = Path('/mnt/c/trial/results')"
   ]
  },
  {
   "cell_type": "code",
   "execution_count": 14,
   "id": "norwegian-supervision",
   "metadata": {},
   "outputs": [
    {
     "data": {
      "text/plain": [
       "(#1) [Path('/mnt/c/trial/results/matancohen')]"
      ]
     },
     "execution_count": 14,
     "metadata": {},
     "output_type": "execute_result"
    }
   ],
   "source": [
    "experiments = base_path.ls()\n",
    "experiments"
   ]
  },
  {
   "cell_type": "code",
   "execution_count": 15,
   "id": "bibliographic-creativity",
   "metadata": {},
   "outputs": [],
   "source": [
    "exp = Path('/mnt/c/trial/results/matancohen')"
   ]
  },
  {
   "cell_type": "code",
   "execution_count": 42,
   "id": "domestic-mount",
   "metadata": {},
   "outputs": [],
   "source": [
    "def read_file(file_name):\n",
    "    with open(file_name, 'r') as file:\n",
    "        lines = file.read().splitlines()\n",
    "        \n",
    "    d = {}\n",
    "    for l in lines:\n",
    "        value = l.split(':')\n",
    "        d[value[0]] = value[1]\n",
    "    \n",
    "    return d"
   ]
  },
  {
   "cell_type": "code",
   "execution_count": 48,
   "id": "quantitative-performance",
   "metadata": {},
   "outputs": [],
   "source": [
    "df = pd.DataFrame([read_file(file_name) for file_name in exp.ls()])"
   ]
  },
  {
   "cell_type": "code",
   "execution_count": 59,
   "id": "restricted-trailer",
   "metadata": {},
   "outputs": [],
   "source": [
    "df = df.astype({'nclauses': int, 'num_assignments': int, 'num_backtracks': int, 'num_decisions': int, 'num_learned': int, 'nvars': int, 'runtime': float,})"
   ]
  },
  {
   "cell_type": "code",
   "execution_count": 61,
   "id": "israeli-straight",
   "metadata": {},
   "outputs": [
    {
     "data": {
      "text/plain": [
       "<AxesSubplot:xlabel='nclauses', ylabel='runtime'>"
      ]
     },
     "execution_count": 61,
     "metadata": {},
     "output_type": "execute_result"
    },
    {
     "data": {
      "image/png": "[encoded data removed]",
      "text/plain": [
       "<Figure size 432x288 with 1 Axes>"
      ]
     },
     "metadata": {
      "needs_background": "light"
     },
     "output_type": "display_data"
    }
   ],
   "source": [
    "df.plot(x='nclauses', y='runtime', kind='scatter')"
   ]
  }
 ],
 "metadata": {
  "kernelspec": {
   "display_name": "Python 3",
   "language": "python",
   "name": "python3"
  },
  "language_info": {
   "codemirror_mode": {
    "name": "ipython",
    "version": 3
   },
   "file_extension": ".py",
   "mimetype": "text/x-python",
   "name": "python",
   "nbconvert_exporter": "python",
   "pygments_lexer": "ipython3",
   "version": "3.8.5"
  }
 },
 "nbformat": 4,
 "nbformat_minor": 5
}
