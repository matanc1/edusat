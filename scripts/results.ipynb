{
 "cells": [
  {
   "cell_type": "code",
   "execution_count": 46,
   "id": "dietary-divide",
   "metadata": {},
   "outputs": [],
   "source": [
    "%matplotlib inline"
   ]
  },
  {
   "cell_type": "code",
   "execution_count": 47,
   "id": "prerequisite-soundtrack",
   "metadata": {},
   "outputs": [],
   "source": [
    "import hvplot.pandas"
   ]
  },
  {
   "cell_type": "code",
   "execution_count": 130,
   "id": "talented-stopping",
   "metadata": {},
   "outputs": [],
   "source": [
    "import pandas as pd\n",
    "from fastcore import *\n",
    "from fastcore.all import * "
   ]
  },
  {
   "cell_type": "code",
   "execution_count": 131,
   "id": "german-reason",
   "metadata": {},
   "outputs": [],
   "source": [
    "base_path = Path('/mnt/c/trial/results')"
   ]
  },
  {
   "cell_type": "code",
   "execution_count": 132,
   "id": "municipal-banking",
   "metadata": {
    "scrolled": true
   },
   "outputs": [
    {
     "data": {
      "text/plain": [
       "(#1) [Path('/mnt/c/trial/results/new-minisat-localrestart')]"
      ]
     },
     "execution_count": 132,
     "metadata": {},
     "output_type": "execute_result"
    }
   ],
   "source": [
    "experiment_paths = base_path.ls()\n",
    "experiment_paths"
   ]
  },
  {
   "cell_type": "code",
   "execution_count": 133,
   "id": "understanding-result",
   "metadata": {},
   "outputs": [],
   "source": [
    "def read_file(file_name):\n",
    "    with open(file_name, 'r') as file:\n",
    "        lines = file.read().splitlines()\n",
    "        \n",
    "    d = {}\n",
    "    for l in lines:\n",
    "        value = l.split(':')\n",
    "        d[value[0]] = value[1]\n",
    "    \n",
    "    return d"
   ]
  },
  {
   "cell_type": "code",
   "execution_count": 134,
   "id": "utility-terrain",
   "metadata": {},
   "outputs": [],
   "source": [
    "def read_experiment_results(name):\n",
    "    exp = base_path / name\n",
    "    df = pd.DataFrame([read_file(file_name) for file_name in exp.ls()])\n",
    "    df = df.astype({'nclauses': int, 'num_assignments': int, 'num_backtracks': int, 'num_decisions': int, 'num_learned': int, \n",
    "                    'nvars': int, 'runtime': float})\n",
    "    df['experiment'] = name\n",
    "    return df"
   ]
  },
  {
   "cell_type": "code",
   "execution_count": 135,
   "id": "measured-convert",
   "metadata": {},
   "outputs": [
    {
     "data": {
      "text/plain": [
       "['new-minisat-localrestart']"
      ]
     },
     "execution_count": 135,
     "metadata": {},
     "output_type": "execute_result"
    }
   ],
   "source": [
    "a = experiments[0]\n",
    "experiment_names = [p.name for p in experiment_paths]\n",
    "experiment_names"
   ]
  },
  {
   "cell_type": "code",
   "execution_count": 136,
   "id": "brown-printing",
   "metadata": {},
   "outputs": [],
   "source": [
    "df = pd.concat([read_experiment_results(name) for name in experiment_names], axis=0)"
   ]
  },
  {
   "cell_type": "code",
   "execution_count": 137,
   "id": "artistic-institute",
   "metadata": {},
   "outputs": [
    {
     "data": {
      "text/html": [
       "<div>\n",
       "<style scoped>\n",
       "    .dataframe tbody tr th:only-of-type {\n",
       "        vertical-align: middle;\n",
       "    }\n",
       "\n",
       "    .dataframe tbody tr th {\n",
       "        vertical-align: top;\n",
       "    }\n",
       "\n",
       "    .dataframe thead th {\n",
       "        text-align: right;\n",
       "    }\n",
       "</style>\n",
       "<table border=\"1\" class=\"dataframe\">\n",
       "  <thead>\n",
       "    <tr style=\"text-align: right;\">\n",
       "      <th></th>\n",
       "      <th>0</th>\n",
       "      <th>1</th>\n",
       "      <th>2</th>\n",
       "    </tr>\n",
       "  </thead>\n",
       "  <tbody>\n",
       "    <tr>\n",
       "      <th>filename</th>\n",
       "      <td>3col200_5_3.shuffled.cnf</td>\n",
       "      <td>3col200_5_5.shuffled.cnf</td>\n",
       "      <td>3col20_5_10.shuffled.cnf</td>\n",
       "    </tr>\n",
       "    <tr>\n",
       "      <th>nclauses</th>\n",
       "      <td>1706</td>\n",
       "      <td>1706</td>\n",
       "      <td>176</td>\n",
       "    </tr>\n",
       "    <tr>\n",
       "      <th>num_assignments</th>\n",
       "      <td>3031851</td>\n",
       "      <td>3752229</td>\n",
       "      <td>269</td>\n",
       "    </tr>\n",
       "    <tr>\n",
       "      <th>num_backtracks</th>\n",
       "      <td>31668</td>\n",
       "      <td>31011</td>\n",
       "      <td>23</td>\n",
       "    </tr>\n",
       "    <tr>\n",
       "      <th>num_decisions</th>\n",
       "      <td>107795</td>\n",
       "      <td>219436</td>\n",
       "      <td>72</td>\n",
       "    </tr>\n",
       "    <tr>\n",
       "      <th>num_learned</th>\n",
       "      <td>31668</td>\n",
       "      <td>31011</td>\n",
       "      <td>23</td>\n",
       "    </tr>\n",
       "    <tr>\n",
       "      <th>num_restarts</th>\n",
       "      <td>3568</td>\n",
       "      <td>9985</td>\n",
       "      <td>3</td>\n",
       "    </tr>\n",
       "    <tr>\n",
       "      <th>nvars</th>\n",
       "      <td>400</td>\n",
       "      <td>400</td>\n",
       "      <td>40</td>\n",
       "    </tr>\n",
       "    <tr>\n",
       "      <th>runtime</th>\n",
       "      <td>41.002</td>\n",
       "      <td>70.141</td>\n",
       "      <td>0.0</td>\n",
       "    </tr>\n",
       "    <tr>\n",
       "      <th>solver</th>\n",
       "      <td>new_solver</td>\n",
       "      <td>new_solver</td>\n",
       "      <td>new_solver</td>\n",
       "    </tr>\n",
       "    <tr>\n",
       "      <th>status</th>\n",
       "      <td>SAT</td>\n",
       "      <td>SAT</td>\n",
       "      <td>UNSAT</td>\n",
       "    </tr>\n",
       "    <tr>\n",
       "      <th>timeout</th>\n",
       "      <td>1200</td>\n",
       "      <td>1200</td>\n",
       "      <td>1200</td>\n",
       "    </tr>\n",
       "    <tr>\n",
       "      <th>vdh</th>\n",
       "      <td>MiniSAT</td>\n",
       "      <td>MiniSAT</td>\n",
       "      <td>MiniSAT</td>\n",
       "    </tr>\n",
       "    <tr>\n",
       "      <th>error</th>\n",
       "      <td>NaN</td>\n",
       "      <td>NaN</td>\n",
       "      <td>Found conflict at level dl=0</td>\n",
       "    </tr>\n",
       "    <tr>\n",
       "      <th>experiment</th>\n",
       "      <td>new-minisat-localrestart</td>\n",
       "      <td>new-minisat-localrestart</td>\n",
       "      <td>new-minisat-localrestart</td>\n",
       "    </tr>\n",
       "  </tbody>\n",
       "</table>\n",
       "</div>"
      ],
      "text/plain": [
       "                                        0                         1  \\\n",
       "filename         3col200_5_3.shuffled.cnf  3col200_5_5.shuffled.cnf   \n",
       "nclauses                             1706                      1706   \n",
       "num_assignments                   3031851                   3752229   \n",
       "num_backtracks                      31668                     31011   \n",
       "num_decisions                      107795                    219436   \n",
       "num_learned                         31668                     31011   \n",
       "num_restarts                         3568                      9985   \n",
       "nvars                                 400                       400   \n",
       "runtime                            41.002                    70.141   \n",
       "solver                         new_solver                new_solver   \n",
       "status                                SAT                       SAT   \n",
       "timeout                              1200                      1200   \n",
       "vdh                               MiniSAT                   MiniSAT   \n",
       "error                                 NaN                       NaN   \n",
       "experiment       new-minisat-localrestart  new-minisat-localrestart   \n",
       "\n",
       "                                            2  \n",
       "filename             3col20_5_10.shuffled.cnf  \n",
       "nclauses                                  176  \n",
       "num_assignments                           269  \n",
       "num_backtracks                             23  \n",
       "num_decisions                              72  \n",
       "num_learned                                23  \n",
       "num_restarts                                3  \n",
       "nvars                                      40  \n",
       "runtime                                   0.0  \n",
       "solver                             new_solver  \n",
       "status                                  UNSAT  \n",
       "timeout                                  1200  \n",
       "vdh                                   MiniSAT  \n",
       "error            Found conflict at level dl=0  \n",
       "experiment           new-minisat-localrestart  "
      ]
     },
     "execution_count": 137,
     "metadata": {},
     "output_type": "execute_result"
    }
   ],
   "source": [
    "df.head(3).T"
   ]
  },
  {
   "cell_type": "markdown",
   "id": "another-plumbing",
   "metadata": {},
   "source": [
    "# Check for errors"
   ]
  },
  {
   "cell_type": "code",
   "execution_count": 138,
   "id": "killing-antenna",
   "metadata": {},
   "outputs": [
    {
     "data": {
      "text/plain": [
       "error\n",
       "Found conflict at level dl=0            125\n",
       "Timeout of **1200** seconds exceeded      5\n",
       "Name: error, dtype: int64"
      ]
     },
     "execution_count": 138,
     "metadata": {},
     "output_type": "execute_result"
    }
   ],
   "source": [
    "df.groupby(['error'])['error'].count()"
   ]
  },
  {
   "cell_type": "markdown",
   "id": "external-saint",
   "metadata": {},
   "source": [
    "Great! No runtime errors! Only conflicts and timeouts!"
   ]
  },
  {
   "cell_type": "markdown",
   "id": "included-cameroon",
   "metadata": {},
   "source": [
    "# Statistics per experiment"
   ]
  },
  {
   "cell_type": "code",
   "execution_count": 144,
   "id": "dedicated-prague",
   "metadata": {},
   "outputs": [
    {
     "data": {
      "text/html": [
       "<div>\n",
       "<style scoped>\n",
       "    .dataframe tbody tr th:only-of-type {\n",
       "        vertical-align: middle;\n",
       "    }\n",
       "\n",
       "    .dataframe tbody tr th {\n",
       "        vertical-align: top;\n",
       "    }\n",
       "\n",
       "    .dataframe thead th {\n",
       "        text-align: right;\n",
       "    }\n",
       "</style>\n",
       "<table border=\"1\" class=\"dataframe\">\n",
       "  <thead>\n",
       "    <tr style=\"text-align: right;\">\n",
       "      <th></th>\n",
       "      <th></th>\n",
       "      <th></th>\n",
       "      <th></th>\n",
       "      <th>count</th>\n",
       "      <th>runtime</th>\n",
       "      <th>num_assignments</th>\n",
       "      <th>num_learned</th>\n",
       "      <th>num_backtracks</th>\n",
       "      <th>nclauses</th>\n",
       "    </tr>\n",
       "    <tr>\n",
       "      <th>experiment</th>\n",
       "      <th>solver</th>\n",
       "      <th>vdh</th>\n",
       "      <th>status</th>\n",
       "      <th></th>\n",
       "      <th></th>\n",
       "      <th></th>\n",
       "      <th></th>\n",
       "      <th></th>\n",
       "      <th></th>\n",
       "    </tr>\n",
       "  </thead>\n",
       "  <tbody>\n",
       "    <tr>\n",
       "      <th rowspan=\"3\" valign=\"top\">new-minisat-localrestart</th>\n",
       "      <th rowspan=\"3\" valign=\"top\">new_solver</th>\n",
       "      <th rowspan=\"3\" valign=\"top\">MiniSAT</th>\n",
       "      <th>ERROR</th>\n",
       "      <td>5</td>\n",
       "      <td>1200.012200</td>\n",
       "      <td>2.371692e+07</td>\n",
       "      <td>667669.800000</td>\n",
       "      <td>667669.800000</td>\n",
       "      <td>4212.200000</td>\n",
       "    </tr>\n",
       "    <tr>\n",
       "      <th>SAT</th>\n",
       "      <td>268</td>\n",
       "      <td>19.028612</td>\n",
       "      <td>2.150957e+06</td>\n",
       "      <td>5220.902985</td>\n",
       "      <td>5220.902985</td>\n",
       "      <td>4796.608209</td>\n",
       "    </tr>\n",
       "    <tr>\n",
       "      <th>UNSAT</th>\n",
       "      <td>125</td>\n",
       "      <td>34.156104</td>\n",
       "      <td>3.132378e+06</td>\n",
       "      <td>8998.680000</td>\n",
       "      <td>8998.680000</td>\n",
       "      <td>4351.208000</td>\n",
       "    </tr>\n",
       "  </tbody>\n",
       "</table>\n",
       "</div>"
      ],
      "text/plain": [
       "                                                    count      runtime  \\\n",
       "experiment               solver     vdh     status                       \n",
       "new-minisat-localrestart new_solver MiniSAT ERROR       5  1200.012200   \n",
       "                                            SAT       268    19.028612   \n",
       "                                            UNSAT     125    34.156104   \n",
       "\n",
       "                                                    num_assignments  \\\n",
       "experiment               solver     vdh     status                    \n",
       "new-minisat-localrestart new_solver MiniSAT ERROR      2.371692e+07   \n",
       "                                            SAT        2.150957e+06   \n",
       "                                            UNSAT      3.132378e+06   \n",
       "\n",
       "                                                      num_learned  \\\n",
       "experiment               solver     vdh     status                  \n",
       "new-minisat-localrestart new_solver MiniSAT ERROR   667669.800000   \n",
       "                                            SAT       5220.902985   \n",
       "                                            UNSAT     8998.680000   \n",
       "\n",
       "                                                    num_backtracks  \\\n",
       "experiment               solver     vdh     status                   \n",
       "new-minisat-localrestart new_solver MiniSAT ERROR    667669.800000   \n",
       "                                            SAT        5220.902985   \n",
       "                                            UNSAT      8998.680000   \n",
       "\n",
       "                                                       nclauses  \n",
       "experiment               solver     vdh     status               \n",
       "new-minisat-localrestart new_solver MiniSAT ERROR   4212.200000  \n",
       "                                            SAT     4796.608209  \n",
       "                                            UNSAT   4351.208000  "
      ]
     },
     "execution_count": 144,
     "metadata": {},
     "output_type": "execute_result"
    }
   ],
   "source": [
    "df.groupby(['experiment', 'solver', 'vdh', 'status']).agg({'experiment': 'count', 'runtime': 'mean',\n",
    "                'num_assignments': 'mean', 'num_learned': 'mean', 'num_backtracks': 'mean', 'nclauses': 'mean'}).\\\n",
    "                    rename({'experiment': 'count'}, axis=1)"
   ]
  },
  {
   "cell_type": "code",
   "execution_count": 140,
   "id": "worst-crown",
   "metadata": {},
   "outputs": [
    {
     "data": {},
     "metadata": {},
     "output_type": "display_data"
    },
    {
     "data": {
      "application/vnd.holoviews_exec.v0+json": "",
      "text/html": [
       "<div id='10444'>\n",
       "\n",
       "\n",
       "\n",
       "\n",
       "\n",
       "  <div class=\"bk-root\" id=\"bcfc5c29-3fcd-4187-922e-a4d5bf2cc05e\" data-root-id=\"10444\"></div>\n",
       "</div>\n",
       "<script type=\"application/javascript\">(function(root) {\n",
       "  function embed_document(root) {\n",
       "    var docs_json = {\"8685610a-8fa7-465d-9588-8482e94f8dd9\":{\"roots\":{\"references\":[{\"attributes\":{\"end\":136607.6857142857,\"reset_end\":136607.6857142857,\"reset_start\":-5529.685714285714,\"start\":-5529.685714285714,\"tags\":[[[\"nclauses\",\"nclauses\",null]]]},\"id\":\"10446\",\"type\":\"Range1d\"},{\"attributes\":{\"data_source\":{\"id\":\"10522\"},\"glyph\":{\"id\":\"10525\"},\"hover_glyph\":null,\"muted_glyph\":{\"id\":\"10527\"},\"nonselection_glyph\":{\"id\":\"10526\"},\"selection_glyph\":null,\"view\":{\"id\":\"10529\"}},\"id\":\"10528\",\"type\":\"GlyphRenderer\"},{\"attributes\":{},\"id\":\"10461\",\"type\":\"BasicTicker\"},{\"attributes\":{\"fill_alpha\":{\"value\":0.1},\"fill_color\":{\"value\":\"#ff7e0e\"},\"line_alpha\":{\"value\":0.1},\"line_color\":{\"value\":\"#ff7e0e\"},\"size\":{\"units\":\"screen\",\"value\":5.477225575051661},\"x\":{\"field\":\"nclauses\"},\"y\":{\"field\":\"runtime\"}},\"id\":\"10507\",\"type\":\"Scatter\"},{\"attributes\":{},\"id\":\"10469\",\"type\":\"PanTool\"},{\"attributes\":{\"data_source\":{\"id\":\"10503\"},\"glyph\":{\"id\":\"10506\"},\"hover_glyph\":null,\"muted_glyph\":{\"id\":\"10508\"},\"nonselection_glyph\":{\"id\":\"10507\"},\"selection_glyph\":null,\"view\":{\"id\":\"10510\"}},\"id\":\"10509\",\"type\":\"GlyphRenderer\"},{\"attributes\":{},\"id\":\"10465\",\"type\":\"BasicTicker\"},{\"attributes\":{\"source\":{\"id\":\"10503\"}},\"id\":\"10510\",\"type\":\"CDSView\"},{\"attributes\":{},\"id\":\"10456\",\"type\":\"LinearScale\"},{\"attributes\":{\"label\":{\"value\":\"UNSAT\"},\"renderers\":[{\"id\":\"10528\"}]},\"id\":\"10542\",\"type\":\"LegendItem\"},{\"attributes\":{\"fill_alpha\":{\"value\":0.2},\"fill_color\":{\"value\":\"#ff7e0e\"},\"line_alpha\":{\"value\":0.2},\"line_color\":{\"value\":\"#ff7e0e\"},\"size\":{\"units\":\"screen\",\"value\":5.477225575051661},\"x\":{\"field\":\"nclauses\"},\"y\":{\"field\":\"runtime\"}},\"id\":\"10508\",\"type\":\"Scatter\"},{\"attributes\":{\"below\":[{\"id\":\"10460\"}],\"center\":[{\"id\":\"10463\"},{\"id\":\"10467\"}],\"left\":[{\"id\":\"10464\"}],\"margin\":[5,5,5,5],\"min_border_bottom\":10,\"min_border_left\":10,\"min_border_right\":10,\"min_border_top\":10,\"plot_height\":300,\"plot_width\":700,\"renderers\":[{\"id\":\"10491\"},{\"id\":\"10509\"},{\"id\":\"10528\"}],\"right\":[{\"id\":\"10501\"}],\"sizing_mode\":\"fixed\",\"title\":{\"id\":\"10452\"},\"toolbar\":{\"id\":\"10474\"},\"x_range\":{\"id\":\"10446\"},\"x_scale\":{\"id\":\"10456\"},\"y_range\":{\"id\":\"10447\"},\"y_scale\":{\"id\":\"10458\"}},\"id\":\"10451\",\"subtype\":\"Figure\",\"type\":\"Plot\"},{\"attributes\":{},\"id\":\"10540\",\"type\":\"UnionRenderers\"},{\"attributes\":{\"data\":{\"nclauses\":[2715,3248,3617,11001,480],\"runtime\":{\"__ndarray__\":\"7FG4HgXAkkB56SYxCMCSQAaBlUMLwJJA7FG4HgXAkkDjpZvEIMCSQA==\",\"dtype\":\"float64\",\"order\":\"little\",\"shape\":[5]},\"status\":[\"ERROR\",\"ERROR\",\"ERROR\",\"ERROR\",\"ERROR\"]},\"selected\":{\"id\":\"10486\"},\"selection_policy\":{\"id\":\"10499\"}},\"id\":\"10485\",\"type\":\"ColumnDataSource\"},{\"attributes\":{\"fill_alpha\":{\"value\":0.2},\"fill_color\":{\"value\":\"#1f77b3\"},\"line_alpha\":{\"value\":0.2},\"line_color\":{\"value\":\"#1f77b3\"},\"size\":{\"units\":\"screen\",\"value\":5.477225575051661},\"x\":{\"field\":\"nclauses\"},\"y\":{\"field\":\"runtime\"}},\"id\":\"10490\",\"type\":\"Scatter\"},{\"attributes\":{\"fill_alpha\":{\"value\":0.2},\"fill_color\":{\"value\":\"#2ba02b\"},\"line_alpha\":{\"value\":0.2},\"line_color\":{\"value\":\"#2ba02b\"},\"size\":{\"units\":\"screen\",\"value\":5.477225575051661},\"x\":{\"field\":\"nclauses\"},\"y\":{\"field\":\"runtime\"}},\"id\":\"10527\",\"type\":\"Scatter\"},{\"attributes\":{\"axis\":{\"id\":\"10460\"},\"grid_line_color\":null,\"ticker\":null},\"id\":\"10463\",\"type\":\"Grid\"},{\"attributes\":{\"label\":{\"value\":\"SAT\"},\"renderers\":[{\"id\":\"10509\"}]},\"id\":\"10521\",\"type\":\"LegendItem\"},{\"attributes\":{\"axis_label\":\"nclauses\",\"bounds\":\"auto\",\"formatter\":{\"id\":\"10481\"},\"major_label_orientation\":\"horizontal\",\"ticker\":{\"id\":\"10461\"}},\"id\":\"10460\",\"type\":\"LinearAxis\"},{\"attributes\":{},\"id\":\"10499\",\"type\":\"UnionRenderers\"},{\"attributes\":{\"axis_label\":\"runtime\",\"bounds\":\"auto\",\"formatter\":{\"id\":\"10483\"},\"major_label_orientation\":\"horizontal\",\"ticker\":{\"id\":\"10465\"}},\"id\":\"10464\",\"type\":\"LinearAxis\"},{\"attributes\":{},\"id\":\"10470\",\"type\":\"WheelZoomTool\"},{\"attributes\":{},\"id\":\"10504\",\"type\":\"Selection\"},{\"attributes\":{\"axis\":{\"id\":\"10464\"},\"dimension\":1,\"grid_line_color\":null,\"ticker\":null},\"id\":\"10467\",\"type\":\"Grid\"},{\"attributes\":{},\"id\":\"10519\",\"type\":\"UnionRenderers\"},{\"attributes\":{},\"id\":\"10468\",\"type\":\"SaveTool\"},{\"attributes\":{\"data\":{\"nclauses\":[176,176,176,176,176,176,176,176,176,176,346,346,346,346,346,346,346,346,346,346,516,516,516,516,516,516,516,516,516,516,904,474,420,419,608,624,904,803,795,3264,3244,3182,3137,3270,3201,3151,3259,22996,32450,24309,10940,19908,15777,44291,370,780,1606,3264,6586,13236,376,1007,2411,3902,6053,8308,12757,36344,23144,1113,1113,1113,1113,1113,1113,1113,1113,1113,1113,11001,11001,81,171,361,551,741,1625,1625,1625,1625,1625,1950,1950,1950,1950,1950,17845,11901,17901,8881,84,168,252,336,420,504,588,672,756,840,924,1008,1680,2520,4200,3517,2518,36129,43251,446,230,96,160,122,186],\"runtime\":{\"__ndarray__\":\"AAAAAAAAAAAAAAAAAAAAALgehetRuI4/uB6F61G4jj+4HoXrUbiOPwAAAAAAAAAAAAAAAAAAAAAAAAAAAAAAAAAAAAAAAAAAAAAAAAAAAAC4HoXrUbiOPwAAAAAAAAAAuB6F61G4jj+4HoXrUbiOP7gehetRuI4/AAAAAAAAAAC4HoXrUbiOPwAAAAAAAAAAuB6F61G4jj8AAAAAAAAAAFg5tMh2vq8/K4cW2c73sz9YObTIdr6vPyuHFtnO97M/K4cW2c73sz+BlUOLbOe7PyuHFtnO97M/WDm0yHa+rz9aZDvfT42nPyuHFtnO97M/uB6F61G4jj8AAAAAAAAAAAIrhxbZzrc/K4cW2c73sz/l0CLb+X7qP+XQItv5fvI/uB6F61G4jj+BlUOLbOe7P4GVQ4ts57s/arx0kxikOkCHFtnO99NBQLgehetRODZAhxbZzvcTPECuR+F6FA5CQFyPwvUonDNAvHSTGASmQkDy0k1iENg5QEjhehSuxyNARrbz/dR47T/ByqFFtvPNP4GVQ4ts58s/I9v5fmq88j9WDi2yne/HP8uhRbbz/dw/WDm0yHa+nz8CK4cW2c63P8HKoUW289U/I9v5fmq88D+sHFpkO18UQIcW2c73kzpAAAAAAAAAAAC4HoXrUbiOP1g5tMh2vq8/lkOLbOf70T+wcmiR7Xz7P6RwPQrXQzZAF9nO91OxfEAAAAAAAAALQHNoke18P/E/K4cW2c73sz8rhxbZzvezP7gehetRuI4/K4cW2c73sz8CK4cW2c63PwAAAAAAAAAAK4cW2c73sz+BlUOLbOe7P4GVQ4ts57s/K4cW2c73sz/TTWIQWEF9QJHtfD81GpJAAAAAAAAAAAC4HoXrUbiOPwAAAAAAAAAAWDm0yHa+nz+LbOf7qfHSP5ZDi2zn++0/y6FFtvP95D9GtvP91HjhPyPb+X5qvPY/y6FFtvP97D8AAAAAAMAjQFYOLbKdbx5AH4XrUbgeD0BzaJHtfD8IQCuHFtnOdyFAnMQgsHJMikDXo3A9Cs9eQEjhehSuxyxAGy/dJAYvdEC4HoXrUbiOP1g5tMh2vp8/K4cW2c73sz85tMh2vp8EQCuHFtnO98M/YOXQItv51j+HFtnO99M6QHNoke18PwxAYOXQItv53j/LoUW28/3gPwAAAAAAAPI/AAAAAAAA6D9YObTIdr4EQB1aZDvfzxZADi2yne/nLEBaZDvfT42nP7gehetRuI4/wcqhRbbz3T9YObTIdr77P76fGi/dJHtAAAAAAAAA5D9aZDvfT42nP8uhRbbz/dw/y6FFtvP91D8AAAAAAABCQA==\",\"dtype\":\"float64\",\"order\":\"little\",\"shape\":[125]},\"status\":[\"UNSAT\",\"UNSAT\",\"UNSAT\",\"UNSAT\",\"UNSAT\",\"UNSAT\",\"UNSAT\",\"UNSAT\",\"UNSAT\",\"UNSAT\",\"UNSAT\",\"UNSAT\",\"UNSAT\",\"UNSAT\",\"UNSAT\",\"UNSAT\",\"UNSAT\",\"UNSAT\",\"UNSAT\",\"UNSAT\",\"UNSAT\",\"UNSAT\",\"UNSAT\",\"UNSAT\",\"UNSAT\",\"UNSAT\",\"UNSAT\",\"UNSAT\",\"UNSAT\",\"UNSAT\",\"UNSAT\",\"UNSAT\",\"UNSAT\",\"UNSAT\",\"UNSAT\",\"UNSAT\",\"UNSAT\",\"UNSAT\",\"UNSAT\",\"UNSAT\",\"UNSAT\",\"UNSAT\",\"UNSAT\",\"UNSAT\",\"UNSAT\",\"UNSAT\",\"UNSAT\",\"UNSAT\",\"UNSAT\",\"UNSAT\",\"UNSAT\",\"UNSAT\",\"UNSAT\",\"UNSAT\",\"UNSAT\",\"UNSAT\",\"UNSAT\",\"UNSAT\",\"UNSAT\",\"UNSAT\",\"UNSAT\",\"UNSAT\",\"UNSAT\",\"UNSAT\",\"UNSAT\",\"UNSAT\",\"UNSAT\",\"UNSAT\",\"UNSAT\",\"UNSAT\",\"UNSAT\",\"UNSAT\",\"UNSAT\",\"UNSAT\",\"UNSAT\",\"UNSAT\",\"UNSAT\",\"UNSAT\",\"UNSAT\",\"UNSAT\",\"UNSAT\",\"UNSAT\",\"UNSAT\",\"UNSAT\",\"UNSAT\",\"UNSAT\",\"UNSAT\",\"UNSAT\",\"UNSAT\",\"UNSAT\",\"UNSAT\",\"UNSAT\",\"UNSAT\",\"UNSAT\",\"UNSAT\",\"UNSAT\",\"UNSAT\",\"UNSAT\",\"UNSAT\",\"UNSAT\",\"UNSAT\",\"UNSAT\",\"UNSAT\",\"UNSAT\",\"UNSAT\",\"UNSAT\",\"UNSAT\",\"UNSAT\",\"UNSAT\",\"UNSAT\",\"UNSAT\",\"UNSAT\",\"UNSAT\",\"UNSAT\",\"UNSAT\",\"UNSAT\",\"UNSAT\",\"UNSAT\",\"UNSAT\",\"UNSAT\",\"UNSAT\",\"UNSAT\",\"UNSAT\",\"UNSAT\",\"UNSAT\"]},\"selected\":{\"id\":\"10523\"},\"selection_policy\":{\"id\":\"10540\"}},\"id\":\"10522\",\"type\":\"ColumnDataSource\"},{\"attributes\":{\"overlay\":{\"id\":\"10473\"}},\"id\":\"10471\",\"type\":\"BoxZoomTool\"},{\"attributes\":{},\"id\":\"10472\",\"type\":\"ResetTool\"},{\"attributes\":{},\"id\":\"10481\",\"type\":\"BasicTickFormatter\"},{\"attributes\":{\"active_drag\":\"auto\",\"active_inspect\":\"auto\",\"active_multi\":null,\"active_scroll\":\"auto\",\"active_tap\":\"auto\",\"tools\":[{\"id\":\"10448\"},{\"id\":\"10468\"},{\"id\":\"10469\"},{\"id\":\"10470\"},{\"id\":\"10471\"},{\"id\":\"10472\"}]},\"id\":\"10474\",\"type\":\"Toolbar\"},{\"attributes\":{\"source\":{\"id\":\"10485\"}},\"id\":\"10492\",\"type\":\"CDSView\"},{\"attributes\":{\"fill_alpha\":{\"value\":0.1},\"fill_color\":{\"value\":\"#1f77b3\"},\"line_alpha\":{\"value\":0.1},\"line_color\":{\"value\":\"#1f77b3\"},\"size\":{\"units\":\"screen\",\"value\":5.477225575051661},\"x\":{\"field\":\"nclauses\"},\"y\":{\"field\":\"runtime\"}},\"id\":\"10489\",\"type\":\"Scatter\"},{\"attributes\":{},\"id\":\"10486\",\"type\":\"Selection\"},{\"attributes\":{\"label\":{\"value\":\"ERROR\"},\"renderers\":[{\"id\":\"10491\"}]},\"id\":\"10502\",\"type\":\"LegendItem\"},{\"attributes\":{\"fill_color\":{\"value\":\"#ff7e0e\"},\"line_color\":{\"value\":\"#ff7e0e\"},\"size\":{\"units\":\"screen\",\"value\":5.477225575051661},\"x\":{\"field\":\"nclauses\"},\"y\":{\"field\":\"runtime\"}},\"id\":\"10506\",\"type\":\"Scatter\"},{\"attributes\":{\"end\":1320.0351999999998,\"reset_end\":1320.0351999999998,\"reset_start\":-120.00319999999999,\"start\":-120.00319999999999,\"tags\":[[[\"runtime\",\"runtime\",null]]]},\"id\":\"10447\",\"type\":\"Range1d\"},{\"attributes\":{\"children\":[{\"id\":\"10445\"},{\"id\":\"10451\"},{\"id\":\"10651\"}],\"margin\":[0,0,0,0],\"name\":\"Row27120\",\"tags\":[\"embedded\"]},\"id\":\"10444\",\"type\":\"Row\"},{\"attributes\":{\"click_policy\":\"mute\",\"items\":[{\"id\":\"10502\"},{\"id\":\"10521\"},{\"id\":\"10542\"}],\"location\":[0,0],\"title\":\"status\"},\"id\":\"10501\",\"type\":\"Legend\"},{\"attributes\":{\"margin\":[5,5,5,5],\"name\":\"HSpacer27124\",\"sizing_mode\":\"stretch_width\"},\"id\":\"10445\",\"type\":\"Spacer\"},{\"attributes\":{\"data_source\":{\"id\":\"10485\"},\"glyph\":{\"id\":\"10488\"},\"hover_glyph\":null,\"muted_glyph\":{\"id\":\"10490\"},\"nonselection_glyph\":{\"id\":\"10489\"},\"selection_glyph\":null,\"view\":{\"id\":\"10492\"}},\"id\":\"10491\",\"type\":\"GlyphRenderer\"},{\"attributes\":{\"fill_color\":{\"value\":\"#2ba02b\"},\"line_color\":{\"value\":\"#2ba02b\"},\"size\":{\"units\":\"screen\",\"value\":5.477225575051661},\"x\":{\"field\":\"nclauses\"},\"y\":{\"field\":\"runtime\"}},\"id\":\"10525\",\"type\":\"Scatter\"},{\"attributes\":{\"fill_alpha\":{\"value\":0.1},\"fill_color\":{\"value\":\"#2ba02b\"},\"line_alpha\":{\"value\":0.1},\"line_color\":{\"value\":\"#2ba02b\"},\"size\":{\"units\":\"screen\",\"value\":5.477225575051661},\"x\":{\"field\":\"nclauses\"},\"y\":{\"field\":\"runtime\"}},\"id\":\"10526\",\"type\":\"Scatter\"},{\"attributes\":{\"callback\":null,\"renderers\":[{\"id\":\"10491\"},{\"id\":\"10509\"},{\"id\":\"10528\"}],\"tags\":[\"hv_created\"],\"tooltips\":[[\"status\",\"@{status}\"],[\"nclauses\",\"@{nclauses}\"],[\"runtime\",\"@{runtime}\"]]},\"id\":\"10448\",\"type\":\"HoverTool\"},{\"attributes\":{},\"id\":\"10523\",\"type\":\"Selection\"},{\"attributes\":{},\"id\":\"10483\",\"type\":\"BasicTickFormatter\"},{\"attributes\":{\"data\":{\"nclauses\":[1706,1706,1876,1876,1876,686,686,686,686,686,686,686,686,686,686,760,780,822,830,833,784,797,785,806,832,1549,1581,1552,1535,1554,1582,1528,1532,1586,1595,22855,36994,29119,83902,15358,11695,560,684,820,759,905,1070,990,1166,1356,1274,1476,1700,1596,1833,2086,2408,3040,2907,22470,18870,61745,1002,2469,5856,13531,683,1468,3152,4818,7202,9642,14508,18160,23004,27728,33520,41023,27684,4777,4777,4777,4777,4777,4777,4777,4777,4777,4777,4934,709,709,887,5556,18616,36291,1000,1000,1000,1050,1050,1050,1050,1050,1225,1225,1225,1225,1225,1400,1400,1400,1400,1400,1400,1400,1575,1575,1575,1575,1575,1600,1750,1750,1750,1750,2100,2100,2100,2100,2275,2275,2275,2275,2450,2450,2450,500,500,500,500,500,600,600,600,600,600,700,700,700,700,700,800,800,800,800,800,875,875,875,875,875,900,900,900,900,900,17845,17845,17845,3964,3290,50373,57495,64617,1000,1000,1000,1000,1000,1000,1000,1000,1050,1050,1050,1050,1050,1062,1200,1200,1200,1200,1200,1200,1225,1225,1225,1225,1225,1300,1300,1300,1300,1300,1400,1400,1400,1400,1400,1400,1400,1400,1400,1400,1400,1575,1575,1575,1575,1575,1750,1750,1750,1750,2100,2100,2100,2275,2275,2275,2275,2275,2450,2450,2450,2450,500,500,500,500,500,600,600,600,600,600,700,700,700,700,700,800,800,800,800,800,875,875,875,875,875,900,900,900,900,900,130997],\"runtime\":{\"__ndarray__\":\"x0s3iUGAREAbL90kBolRQD81XrpJrDhAeekmMQjMT0D0/dR46aYvQPYoXI/C9dA/K4cW2c73sz+BlUOLbOe7PxfZzvdT48U/WDm0yHa+vz8rhxbZzvezPwAAAAAAAMA/WDm0yHa+vz/sUbgehevBP1YOLbKd78c/c2iR7Xw/AEBzaJHtfD//PwAAAAAAAMA/K4cW2c73sz+4HoXrUbiOPwIrhxbZzrc/WDm0yHa+nz9YObTIdr6fP1g5tMh2vp8/WmQ730+Npz+LbOf7qfHSP1g5tMh2vq8/AAAAAAAA2D8rhxbZzvezP1pkO99Pjac/WDm0yHa+rz9YObTIdr6vP+xRuB6F68E/gZVDi2znyz8rhxbZzvfDP3Noke18vxVA1XjpJjHoPUD2KFyPwvXQP2Dl0CLb+eI/8tJNYhDYKECBlUOLbOe7PyuHFtnO98M/gZVDi2znuz8AAAAAAADQPyuHFtnO97M/K4cW2c73wz/sUbgehevBP5ZDi2zn+8k/9ihcj8L12D+WQ4ts5/vRP1g5tMh2vv8/y6FFtvP95D9g5dAi2/nuP1YOLbKdbxhAy6FFtvP98D8dWmQ7388RQA4tsp3vpyxA8tJNYhB4ZECmm8QgsKiCQM3MzMzMDnFAlkOLbOf7yT8AAAAAAADkP1pkO99Pjac/1XjpJjEI3D8dWmQ7388YQJ7vp8ZLt3BAAAAAAAAAAABYObTIdr6fPyuHFtnO97M/K4cW2c732z97FK5H4XroP6wcWmQ73wJAK4cW2c53J0BWDi2ynW8iQJMYBFYORVxAarx0kxgkTEA730+Nl02JQI2XbhKDjnBAK4cW2c730z9zaJHtfD8VQDm0yHa+nwxAK4cW2c732z9YObTIdr4MQHNoke18P/c/9ihcj8L10D9g5dAi2/nmP/YoXI/C9dg/AAAAAAAAAEAdWmQ7388ZQIcW2c73MzZAPQrXo3A9+j/sUbgehS9hQJMYBFYOqWVAK4cW2c73sz8OLbKd74cwQOXQItv5jlBAHVpkO9/PLkACK4cW2c63PwAAAAAAAAFAuB6F61G4jj+4HoXrUbiOP1g5tMh2vp8/K4cW2c73sz+4HoXrUbiOP7gehetRuI4/WDm0yHa+rz+4HoXrUbiOP1g5tMh2vp8/uB6F61G4jj9YObTIdr6fP/96hQX3A64/WDm0yHa+nz+4HoXrUbiOP+DYs+cyNcs/WDm0yHa+nz+4HoXrUbiOP1g5tMh2vp8/jBAebRyxrj9YObTIdr6fP1pkO99Pjac/uB6F61G4jj9YObTIdr4OQFg5tMh2vq8/WDm0yHa+nz+4HoXrUbiOP1g5tMh2vp8/WDm0yHa+nz9aZDvfT42nPwIrhxbZzrc/lkOLbOf70T/ByqFFtvPVP1g5tMh2vp8/lkOLbOf74T/l0CLb+X7iPwAAAAAAAMA/WDm0yHa+nz9YObTIdr6fP7gehetRuI4/uB6F61G4jj+4HoXrUbiOP7gehetRuI4/uB6F61G4jj8AAAAAAAAAALgehetRuI4/AAAAAAAAAAC4HoXrUbiOP7gehetRuI4/uB6F61G4jj/8qfHSTWKQP7gehetRuI4/AAAAAAAAAAC4HoXrUbiOP7gehetRuI4/uB6F61G4jj97FK5H4XqUP7gehetRuI4/uB6F61G4jj+4HoXrUbiOP7gehetRuI4/uB6F61G4jj+4HoXrUbiOP7gehetRuI4/uB6F61G4jj+4HoXrUbiOP7gehetRuI4/uB6F61G4jj+4HoXrUbiOP6jGSzeJ/oBAqMZLN4m9gEC6SQwCK1KBQAAAAAAAAPA/WDm0yHa+nz/ByqFFtvPdP2Dl0CLb+d4/AAAAAAAA4D9YObTIdr4EQIts5/up8dI/5dAi2/l+A0C4HoXrUbiOP/yp8dJNYpA/uB6F61G4jj+4HoXrUbiOP7gehetRuI4/AiuHFtnOtz+4HoXrUbiOP7gehetRuI4/WDm0yHa+nz+4HoXrUbiOP3npJjEIXExA8tJNYhB4R0C4HoXrUbiOP1g5tMh2vp8//Knx0k1ikD9YObTIdr6fP1g5tMh2vp8/AiuHFtnOtz+4HoXrUbiOP7gehetRuI4/uB6F61G4jj9YObTIdr6vP1g5tMh2vp8/uB6F61G4jj9YObTIdr6fP1g5tMh2vp8/WDm0yHa+nz+wcmiR7XznP1g5tMh2vp8/WmQ730+Npz+4HoXrUbiOP7gehetRuI4/uB6F61G4jj9YObTIdr6fP1g5tMh2vp8/uB6F61G4jj9YObTIdr6fP1g5tMh2vp8/K4cW2c73wz9g5dAi2/neP1g5tMh2vp8/WDm0yHa+nz9YObTIdr6vP7gehetRuI4/K4cW2c73sz+wcmiR7Xz7P1pkO99Pjac/WDm0yHa+rz9YObTIdr6vPwAAAAAAANA/WDm0yHa+nz9YObTIdr6fP1g5tMh2vp8/7FG4HoXrwT9YObTIdr6fP1g5tMh2vp8/K4cW2c73wz9aZDvfT42nP5ZDi2zn+9k/uB6F61G4jj+4HoXrUbiOP7gehetRuI4/uB6F61G4jj9YObTIdr6fP7gehetRuI4/uB6F61G4jj8AAAAAAAAAALgehetRuI4/uB6F61G4jj+4HoXrUbiOP7gehetRuI4/AAAAAAAAAAC4HoXrUbiOP7gehetRuI4/uB6F61G4jj+4HoXrUbiOP7gehetRuI4/uB6F61G4jj+4HoXrUbiOP7gehetRuI4/uB6F61G4jj+4HoXrUbiOP7gehetRuI4/uB6F61G4jj+4HoXrUbiOP7gehetRuI4/uB6F61G4jj+4HoXrUbiOP7gehetRuI4/y6FFtvP99j8=\",\"dtype\":\"float64\",\"order\":\"little\",\"shape\":[268]},\"status\":[\"SAT\",\"SAT\",\"SAT\",\"SAT\",\"SAT\",\"SAT\",\"SAT\",\"SAT\",\"SAT\",\"SAT\",\"SAT\",\"SAT\",\"SAT\",\"SAT\",\"SAT\",\"SAT\",\"SAT\",\"SAT\",\"SAT\",\"SAT\",\"SAT\",\"SAT\",\"SAT\",\"SAT\",\"SAT\",\"SAT\",\"SAT\",\"SAT\",\"SAT\",\"SAT\",\"SAT\",\"SAT\",\"SAT\",\"SAT\",\"SAT\",\"SAT\",\"SAT\",\"SAT\",\"SAT\",\"SAT\",\"SAT\",\"SAT\",\"SAT\",\"SAT\",\"SAT\",\"SAT\",\"SAT\",\"SAT\",\"SAT\",\"SAT\",\"SAT\",\"SAT\",\"SAT\",\"SAT\",\"SAT\",\"SAT\",\"SAT\",\"SAT\",\"SAT\",\"SAT\",\"SAT\",\"SAT\",\"SAT\",\"SAT\",\"SAT\",\"SAT\",\"SAT\",\"SAT\",\"SAT\",\"SAT\",\"SAT\",\"SAT\",\"SAT\",\"SAT\",\"SAT\",\"SAT\",\"SAT\",\"SAT\",\"SAT\",\"SAT\",\"SAT\",\"SAT\",\"SAT\",\"SAT\",\"SAT\",\"SAT\",\"SAT\",\"SAT\",\"SAT\",\"SAT\",\"SAT\",\"SAT\",\"SAT\",\"SAT\",\"SAT\",\"SAT\",\"SAT\",\"SAT\",\"SAT\",\"SAT\",\"SAT\",\"SAT\",\"SAT\",\"SAT\",\"SAT\",\"SAT\",\"SAT\",\"SAT\",\"SAT\",\"SAT\",\"SAT\",\"SAT\",\"SAT\",\"SAT\",\"SAT\",\"SAT\",\"SAT\",\"SAT\",\"SAT\",\"SAT\",\"SAT\",\"SAT\",\"SAT\",\"SAT\",\"SAT\",\"SAT\",\"SAT\",\"SAT\",\"SAT\",\"SAT\",\"SAT\",\"SAT\",\"SAT\",\"SAT\",\"SAT\",\"SAT\",\"SAT\",\"SAT\",\"SAT\",\"SAT\",\"SAT\",\"SAT\",\"SAT\",\"SAT\",\"SAT\",\"SAT\",\"SAT\",\"SAT\",\"SAT\",\"SAT\",\"SAT\",\"SAT\",\"SAT\",\"SAT\",\"SAT\",\"SAT\",\"SAT\",\"SAT\",\"SAT\",\"SAT\",\"SAT\",\"SAT\",\"SAT\",\"SAT\",\"SAT\",\"SAT\",\"SAT\",\"SAT\",\"SAT\",\"SAT\",\"SAT\",\"SAT\",\"SAT\",\"SAT\",\"SAT\",\"SAT\",\"SAT\",\"SAT\",\"SAT\",\"SAT\",\"SAT\",\"SAT\",\"SAT\",\"SAT\",\"SAT\",\"SAT\",\"SAT\",\"SAT\",\"SAT\",\"SAT\",\"SAT\",\"SAT\",\"SAT\",\"SAT\",\"SAT\",\"SAT\",\"SAT\",\"SAT\",\"SAT\",\"SAT\",\"SAT\",\"SAT\",\"SAT\",\"SAT\",\"SAT\",\"SAT\",\"SAT\",\"SAT\",\"SAT\",\"SAT\",\"SAT\",\"SAT\",\"SAT\",\"SAT\",\"SAT\",\"SAT\",\"SAT\",\"SAT\",\"SAT\",\"SAT\",\"SAT\",\"SAT\",\"SAT\",\"SAT\",\"SAT\",\"SAT\",\"SAT\",\"SAT\",\"SAT\",\"SAT\",\"SAT\",\"SAT\",\"SAT\",\"SAT\",\"SAT\",\"SAT\",\"SAT\",\"SAT\",\"SAT\",\"SAT\",\"SAT\",\"SAT\",\"SAT\",\"SAT\",\"SAT\",\"SAT\",\"SAT\",\"SAT\",\"SAT\",\"SAT\",\"SAT\",\"SAT\",\"SAT\",\"SAT\",\"SAT\",\"SAT\",\"SAT\",\"SAT\",\"SAT\",\"SAT\",\"SAT\",\"SAT\",\"SAT\",\"SAT\",\"SAT\",\"SAT\",\"SAT\",\"SAT\"]},\"selected\":{\"id\":\"10504\"},\"selection_policy\":{\"id\":\"10519\"}},\"id\":\"10503\",\"type\":\"ColumnDataSource\"},{\"attributes\":{\"bottom_units\":\"screen\",\"fill_alpha\":0.5,\"fill_color\":\"lightgrey\",\"left_units\":\"screen\",\"level\":\"overlay\",\"line_alpha\":1.0,\"line_color\":\"black\",\"line_dash\":[4,4],\"line_width\":2,\"right_units\":\"screen\",\"top_units\":\"screen\"},\"id\":\"10473\",\"type\":\"BoxAnnotation\"},{\"attributes\":{\"source\":{\"id\":\"10522\"}},\"id\":\"10529\",\"type\":\"CDSView\"},{\"attributes\":{\"text\":\"Runtime by #clauses\",\"text_color\":{\"value\":\"black\"},\"text_font_size\":{\"value\":\"12pt\"}},\"id\":\"10452\",\"type\":\"Title\"},{\"attributes\":{\"margin\":[5,5,5,5],\"name\":\"HSpacer27125\",\"sizing_mode\":\"stretch_width\"},\"id\":\"10651\",\"type\":\"Spacer\"},{\"attributes\":{\"fill_color\":{\"value\":\"#1f77b3\"},\"line_color\":{\"value\":\"#1f77b3\"},\"size\":{\"units\":\"screen\",\"value\":5.477225575051661},\"x\":{\"field\":\"nclauses\"},\"y\":{\"field\":\"runtime\"}},\"id\":\"10488\",\"type\":\"Scatter\"},{\"attributes\":{},\"id\":\"10458\",\"type\":\"LinearScale\"}],\"root_ids\":[\"10444\"]},\"title\":\"Bokeh Application\",\"version\":\"2.2.3\"}};\n",
       "    var render_items = [{\"docid\":\"8685610a-8fa7-465d-9588-8482e94f8dd9\",\"root_ids\":[\"10444\"],\"roots\":{\"10444\":\"bcfc5c29-3fcd-4187-922e-a4d5bf2cc05e\"}}];\n",
       "    root.Bokeh.embed.embed_items_notebook(docs_json, render_items);\n",
       "  }\n",
       "  if (root.Bokeh !== undefined && root.Bokeh.Panel !== undefined) {\n",
       "    embed_document(root);\n",
       "  } else {\n",
       "    var attempts = 0;\n",
       "    var timer = setInterval(function(root) {\n",
       "      if (root.Bokeh !== undefined && root.Bokeh.Panel !== undefined) {\n",
       "        clearInterval(timer);\n",
       "        embed_document(root);\n",
       "      } else if (document.readyState == \"complete\") {\n",
       "        attempts++;\n",
       "        if (attempts > 100) {\n",
       "          clearInterval(timer);\n",
       "          console.log(\"Bokeh: ERROR: Unable to run BokehJS code because BokehJS library is missing\");\n",
       "        }\n",
       "      }\n",
       "    }, 10, root)\n",
       "  }\n",
       "})(window);</script>"
      ],
      "text/plain": [
       ":NdOverlay   [status]\n",
       "   :Scatter   [nclauses]   (runtime)"
      ]
     },
     "execution_count": 140,
     "metadata": {
      "application/vnd.holoviews_exec.v0+json": {
       "id": "10444"
      }
     },
     "output_type": "execute_result"
    }
   ],
   "source": [
    "df.hvplot.scatter(x='nclauses', y='runtime', by=['status']).options(title='Runtime by #clauses')"
   ]
  }
 ],
 "metadata": {
  "kernelspec": {
   "display_name": "Python 3",
   "language": "python",
   "name": "python3"
  },
  "language_info": {
   "codemirror_mode": {
    "name": "ipython",
    "version": 3
   },
   "file_extension": ".py",
   "mimetype": "text/x-python",
   "name": "python",
   "nbconvert_exporter": "python",
   "pygments_lexer": "ipython3",
   "version": "3.8.5"
  }
 },
 "nbformat": 4,
 "nbformat_minor": 5
}
